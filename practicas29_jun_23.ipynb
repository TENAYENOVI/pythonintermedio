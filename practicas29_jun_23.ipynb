{
  "nbformat": 4,
  "nbformat_minor": 0,
  "metadata": {
    "colab": {
      "provenance": []
    },
    "kernelspec": {
      "name": "python3",
      "display_name": "Python 3"
    },
    "language_info": {
      "name": "python"
    }
  },
  "cells": [
    {
      "cell_type": "markdown",
      "source": [
        "practica 29-junio-23"
      ],
      "metadata": {
        "id": "vlnSsbCTqtj2"
      }
    },
    {
      "cell_type": "code",
      "execution_count": 81,
      "metadata": {
        "colab": {
          "base_uri": "https://localhost:8080/"
        },
        "id": "YgugvQNAnlXW",
        "outputId": "2e2e020d-ee1f-4a3a-ef13-eda267b9c047"
      },
      "outputs": [
        {
          "output_type": "stream",
          "name": "stdout",
          "text": [
            "Hola, mundo\n"
          ]
        }
      ],
      "source": [
        "# Mi primer código en Python 3\n",
        "mensaje = \"Hola, mundo\"\n",
        "print(mensaje)\n"
      ]
    },
    {
      "cell_type": "code",
      "source": [
        "cadena ='Conejo'\n",
        "print(cadena[0:2])\n",
        "print(cadena[2:4])\n",
        "print(cadena[4:6])"
      ],
      "metadata": {
        "colab": {
          "base_uri": "https://localhost:8080/"
        },
        "id": "Ok3S4-Vb0XOH",
        "outputId": "0c84ea36-43c5-4d75-fa8f-438756c6cdc6"
      },
      "execution_count": 20,
      "outputs": [
        {
          "output_type": "stream",
          "name": "stdout",
          "text": [
            "Co\n",
            "ne\n",
            "jo\n"
          ]
        }
      ]
    },
    {
      "cell_type": "code",
      "source": [
        "cadena = 'Hora del cafecito'\n",
        "uper=cadena.upper()\n",
        "print(uper)\n",
        "indice=cadena.find('a') #te muestra el indice en el que lo encontro\n",
        "print(indice)"
      ],
      "metadata": {
        "colab": {
          "base_uri": "https://localhost:8080/"
        },
        "id": "zUVsO1T61B7P",
        "outputId": "5c751661-1aeb-4f1d-9927-92bd5ff925b2"
      },
      "execution_count": 11,
      "outputs": [
        {
          "output_type": "stream",
          "name": "stdout",
          "text": [
            "HORA DEL CAFECITO\n",
            "3\n"
          ]
        }
      ]
    },
    {
      "cell_type": "code",
      "source": [
        "\n",
        "#booleanos\n",
        "'a' in 'cafecito'\n",
        "True\n"
      ],
      "metadata": {
        "colab": {
          "base_uri": "https://localhost:8080/"
        },
        "id": "FUVzS-gQ1qiG",
        "outputId": "87320229-65c4-4c65-f740-5f999ba10696"
      },
      "execution_count": 21,
      "outputs": [
        {
          "output_type": "execute_result",
          "data": {
            "text/plain": [
              "True"
            ]
          },
          "metadata": {},
          "execution_count": 21
        }
      ]
    },
    {
      "cell_type": "code",
      "source": [
        "#booleanos\n",
        "'a' in 'conejos'\n",
        "False"
      ],
      "metadata": {
        "colab": {
          "base_uri": "https://localhost:8080/"
        },
        "id": "3SQJU9dr3QYl",
        "outputId": "1ccd5349-037c-425e-b297-ff20334d2ee2"
      },
      "execution_count": 19,
      "outputs": [
        {
          "output_type": "execute_result",
          "data": {
            "text/plain": [
              "False"
            ]
          },
          "metadata": {},
          "execution_count": 19
        }
      ]
    },
    {
      "cell_type": "code",
      "source": [
        "x=1\n",
        "if x > 0:\n",
        "  print(\"Positivo\")\n",
        "elif x < 0:\n",
        "  print(\"negativo\")\n",
        "else:\n",
        "  print(\"zero\")"
      ],
      "metadata": {
        "colab": {
          "base_uri": "https://localhost:8080/"
        },
        "id": "hpeuv3SC6aYg",
        "outputId": "e349a8d6-bcee-4292-9112-85403fd3a10d"
      },
      "execution_count": 24,
      "outputs": [
        {
          "output_type": "stream",
          "name": "stdout",
          "text": [
            "Positivo\n"
          ]
        }
      ]
    },
    {
      "cell_type": "code",
      "source": [
        "try:\n",
        "  fahrenheit = float(input)\n",
        "  celsius = ((fahrenheit - 32.0)* 5.0/9.0)\n",
        "  print(celsius)\n",
        "except:\n",
        "  print(input(\"ingresa un numero\"))\n",
        ""
      ],
      "metadata": {
        "colab": {
          "base_uri": "https://localhost:8080/"
        },
        "id": "83O3Fosi6yDx",
        "outputId": "0e409205-b549-4310-ba4a-5663cb762eaa"
      },
      "execution_count": 57,
      "outputs": [
        {
          "output_type": "stream",
          "name": "stdout",
          "text": [
            "-15.0\n"
          ]
        }
      ]
    },
    {
      "cell_type": "code",
      "source": [
        "n=5\n",
        "while n >0:\n",
        "  print(n)\n",
        "  n=n-1\n",
        "print(\"Boom!\")"
      ],
      "metadata": {
        "colab": {
          "base_uri": "https://localhost:8080/"
        },
        "id": "uhISMAhd7QhN",
        "outputId": "3417c384-d57d-4581-adef-e2dc967abf01"
      },
      "execution_count": 25,
      "outputs": [
        {
          "output_type": "stream",
          "name": "stdout",
          "text": [
            "5\n",
            "4\n",
            "3\n",
            "2\n",
            "1\n",
            "Boom!\n"
          ]
        }
      ]
    },
    {
      "cell_type": "code",
      "source": [
        "#while True:\n",
        "#  dato = input('> ')\n",
        "#  if dato[0] =='#':\n",
        "#    continue\n",
        "#  if dato == 'bye':\n",
        "#    break\n",
        "#  print(line)\n",
        "#print(\"continuamos...\")"
      ],
      "metadata": {
        "id": "1nYTncEd7YqJ"
      },
      "execution_count": 80,
      "outputs": []
    },
    {
      "cell_type": "code",
      "source": [
        "def imprimir_letras():\n",
        "  print(\"But I'm in so deep\")\n",
        "  print(\"You know I'm such a fool\")\n",
        "\n",
        "imprimir_letras()"
      ],
      "metadata": {
        "colab": {
          "base_uri": "https://localhost:8080/"
        },
        "id": "xOwaHukS9-ZV",
        "outputId": "18e1e2c1-8ce2-451e-d985-ef72b986295c"
      },
      "execution_count": 62,
      "outputs": [
        {
          "output_type": "stream",
          "name": "stdout",
          "text": [
            "But I'm in so deep\n",
            "You know I'm such a fool\n"
          ]
        }
      ]
    },
    {
      "cell_type": "code",
      "source": [
        "def imprimir_doble(dato):\n",
        "  print(dato*2)\n",
        "\n",
        "imprimir_doble(8)"
      ],
      "metadata": {
        "colab": {
          "base_uri": "https://localhost:8080/"
        },
        "id": "KCcOhazG-dPB",
        "outputId": "5dfffe97-c3b9-4a00-8d6d-e6c4ffa8934b"
      },
      "execution_count": 64,
      "outputs": [
        {
          "output_type": "stream",
          "name": "stdout",
          "text": [
            "16\n"
          ]
        }
      ]
    },
    {
      "cell_type": "code",
      "source": [
        "def adicion(a,b):\n",
        "  suma = a+b\n",
        "  return suma\n",
        "\n",
        "adicion(3,55)"
      ],
      "metadata": {
        "colab": {
          "base_uri": "https://localhost:8080/"
        },
        "id": "vtmK40EK-v_E",
        "outputId": "30eb88e5-21ca-48fe-8d18-994405194a90"
      },
      "execution_count": 73,
      "outputs": [
        {
          "output_type": "execute_result",
          "data": {
            "text/plain": [
              "58"
            ]
          },
          "metadata": {},
          "execution_count": 73
        }
      ]
    },
    {
      "cell_type": "code",
      "source": [
        "print(max(10,100))\n",
        "print(min(50,34))\n",
        "print(len(\"Mi nombre es russell, y soy un guia explorador\"))"
      ],
      "metadata": {
        "colab": {
          "base_uri": "https://localhost:8080/"
        },
        "id": "7t4UQDP7_c9p",
        "outputId": "880330df-12dd-4b24-f6a7-1b67718597f3"
      },
      "execution_count": 76,
      "outputs": [
        {
          "output_type": "stream",
          "name": "stdout",
          "text": [
            "100\n",
            "34\n",
            "46\n"
          ]
        }
      ]
    },
    {
      "cell_type": "code",
      "source": [
        "print(str(32))\n",
        "print(int(32.99))\n",
        "print(float(32))"
      ],
      "metadata": {
        "colab": {
          "base_uri": "https://localhost:8080/"
        },
        "id": "oP6R8kus_-Jl",
        "outputId": "4e90bfe4-75a2-4f42-ff0f-87d9cddefd2f"
      },
      "execution_count": 77,
      "outputs": [
        {
          "output_type": "stream",
          "name": "stdout",
          "text": [
            "32\n",
            "32\n",
            "32.0\n"
          ]
        }
      ]
    }
  ]
}