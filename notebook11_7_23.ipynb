{
  "nbformat": 4,
  "nbformat_minor": 0,
  "metadata": {
    "colab": {
      "provenance": []
    },
    "kernelspec": {
      "name": "python3",
      "display_name": "Python 3"
    },
    "language_info": {
      "name": "python"
    }
  },
  "cells": [
    {
      "cell_type": "markdown",
      "source": [
        "Tipos de Datos"
      ],
      "metadata": {
        "id": "WoQnxIC9dv3c"
      }
    },
    {
      "cell_type": "code",
      "execution_count": null,
      "metadata": {
        "id": "xKIYA5FXdo_4"
      },
      "outputs": [],
      "source": []
    },
    {
      "cell_type": "markdown",
      "source": [
        "Copy vs View"
      ],
      "metadata": {
        "id": "k-i4za4Td2dQ"
      }
    },
    {
      "cell_type": "code",
      "source": [
        "\n",
        "import numpy as np\n"
      ],
      "metadata": {
        "id": "Nu2oWU0nd6Us"
      },
      "execution_count": null,
      "outputs": []
    },
    {
      "cell_type": "markdown",
      "source": [
        "Concatenar"
      ],
      "metadata": {
        "id": "7L9iWdfHeETP"
      }
    },
    {
      "cell_type": "code",
      "source": [
        "arr1 = np.array([1,2,3])\n",
        "print(\"arr1 \", arr1)\n",
        "arr2 = np.array([4,5,6])\n",
        "print(\"arr2 \", arr2)\n",
        "arr3 = np.concatenate((arr1,arr2))\n",
        "print(\"arr3 \",arr3)"
      ],
      "metadata": {
        "colab": {
          "base_uri": "https://localhost:8080/"
        },
        "id": "4XUUnhT9eGcp",
        "outputId": "ab0896da-5560-48d5-cc01-d9bf57194e5e"
      },
      "execution_count": null,
      "outputs": [
        {
          "output_type": "stream",
          "name": "stdout",
          "text": [
            "arr1  [1 2 3]\n",
            "arr2  [4 5 6]\n",
            "arr3  [1 2 3 4 5 6]\n"
          ]
        }
      ]
    },
    {
      "cell_type": "markdown",
      "source": [
        "Busqueda"
      ],
      "metadata": {
        "id": "OEmCZNFLeqXo"
      }
    },
    {
      "cell_type": "code",
      "source": [],
      "metadata": {
        "id": "-Yp4kxmAfOUa"
      },
      "execution_count": null,
      "outputs": []
    },
    {
      "cell_type": "code",
      "source": [
        "arr = np.array([1,2,2,4,5,5,4])\n",
        "x = np.where(arr ==4)\n",
        "print(x)"
      ],
      "metadata": {
        "colab": {
          "base_uri": "https://localhost:8080/"
        },
        "id": "yAoSt9lder-e",
        "outputId": "3988891a-0aac-4ad5-cd39-4692da0ad843"
      },
      "execution_count": null,
      "outputs": [
        {
          "output_type": "stream",
          "name": "stdout",
          "text": [
            "(array([3, 6]),)\n"
          ]
        }
      ]
    },
    {
      "cell_type": "markdown",
      "source": [
        "Ordenar"
      ],
      "metadata": {
        "id": "AqDvDflje8Pm"
      }
    },
    {
      "cell_type": "code",
      "source": [
        "arr = np.array([2,5,6,4,1,3,8,9])\n",
        "x = np.sort(arr)\n",
        "print(x)"
      ],
      "metadata": {
        "colab": {
          "base_uri": "https://localhost:8080/"
        },
        "id": "xIV7y-USe9Sr",
        "outputId": "9388e85e-2184-447c-eac9-987c945589a3"
      },
      "execution_count": null,
      "outputs": [
        {
          "output_type": "stream",
          "name": "stdout",
          "text": [
            "[1 2 3 4 5 6 8 9]\n"
          ]
        }
      ]
    },
    {
      "cell_type": "markdown",
      "source": [
        "# ***Pandas***"
      ],
      "metadata": {
        "id": "yUEfWFQlfJ61"
      }
    },
    {
      "cell_type": "code",
      "source": [
        "pip install pandas"
      ],
      "metadata": {
        "colab": {
          "base_uri": "https://localhost:8080/"
        },
        "id": "96eHHJHJfyvs",
        "outputId": "fcdab8f8-9afa-4c7f-cd26-05f173a7d05b"
      },
      "execution_count": null,
      "outputs": [
        {
          "output_type": "stream",
          "name": "stdout",
          "text": [
            "Requirement already satisfied: pandas in /usr/local/lib/python3.10/dist-packages (1.5.3)\n",
            "Requirement already satisfied: python-dateutil>=2.8.1 in /usr/local/lib/python3.10/dist-packages (from pandas) (2.8.2)\n",
            "Requirement already satisfied: pytz>=2020.1 in /usr/local/lib/python3.10/dist-packages (from pandas) (2022.7.1)\n",
            "Requirement already satisfied: numpy>=1.21.0 in /usr/local/lib/python3.10/dist-packages (from pandas) (1.22.4)\n",
            "Requirement already satisfied: six>=1.5 in /usr/local/lib/python3.10/dist-packages (from python-dateutil>=2.8.1->pandas) (1.16.0)\n"
          ]
        }
      ]
    },
    {
      "cell_type": "code",
      "source": [
        "import pandas as pd"
      ],
      "metadata": {
        "id": "4uAoofzlfQVj"
      },
      "execution_count": null,
      "outputs": []
    },
    {
      "cell_type": "markdown",
      "source": [
        "***Series***"
      ],
      "metadata": {
        "id": "4jMJFzijfYUV"
      }
    },
    {
      "cell_type": "code",
      "source": [
        "a = np.array([1,2,3])\n",
        "srs = pd.Series(a)\n",
        "print(srs)\n",
        "print(srs[0])"
      ],
      "metadata": {
        "colab": {
          "base_uri": "https://localhost:8080/"
        },
        "id": "b6E5Ug--faGH",
        "outputId": "24993739-836e-4aa6-b545-917f3bf02771"
      },
      "execution_count": null,
      "outputs": [
        {
          "output_type": "stream",
          "name": "stdout",
          "text": [
            "0    1\n",
            "1    2\n",
            "2    3\n",
            "dtype: int64\n",
            "1\n"
          ]
        }
      ]
    },
    {
      "cell_type": "code",
      "source": [
        "srs = pd.Series(a, index =['x','y','z'])\n",
        "print(srs)\n",
        "print(srs['x'])"
      ],
      "metadata": {
        "colab": {
          "base_uri": "https://localhost:8080/"
        },
        "id": "8MHbWw8yf_4S",
        "outputId": "ab3db285-5475-475d-c5b6-4401792d3fae"
      },
      "execution_count": null,
      "outputs": [
        {
          "output_type": "stream",
          "name": "stdout",
          "text": [
            "x    1\n",
            "y    2\n",
            "z    3\n",
            "dtype: int64\n",
            "1\n"
          ]
        }
      ]
    },
    {
      "cell_type": "code",
      "source": [
        "srs = pd.Series(a)"
      ],
      "metadata": {
        "id": "zFJLwe-4gZyY"
      },
      "execution_count": null,
      "outputs": []
    },
    {
      "cell_type": "markdown",
      "source": [
        "DataFrame"
      ],
      "metadata": {
        "id": "ScWsqDqAiXOs"
      }
    },
    {
      "cell_type": "code",
      "source": [
        "mydataset = {\n",
        "    'operador':['John Doe', \"Sr. X\",\"Lorem ipsum\"],\n",
        "    'no. reloj':[101,202,303]\n",
        "}\n",
        "\n",
        "df = pd.DataFrame(mydataset)"
      ],
      "metadata": {
        "id": "_BxzE2SCiYg4"
      },
      "execution_count": null,
      "outputs": []
    },
    {
      "cell_type": "code",
      "source": [
        "df[df['no. reloj']>d]"
      ],
      "metadata": {
        "id": "ktHGRwoZi2Lh"
      },
      "execution_count": null,
      "outputs": []
    },
    {
      "cell_type": "code",
      "source": [
        "df['asistencia']=[True, False, True]"
      ],
      "metadata": {
        "id": "KP2jmjf0i7KF"
      },
      "execution_count": null,
      "outputs": []
    },
    {
      "cell_type": "code",
      "source": [
        "print(df)"
      ],
      "metadata": {
        "colab": {
          "base_uri": "https://localhost:8080/"
        },
        "id": "Jb9cJmKOjHRE",
        "outputId": "a31371aa-4204-4f9c-9609-ba77573dbf51"
      },
      "execution_count": null,
      "outputs": [
        {
          "output_type": "stream",
          "name": "stdout",
          "text": [
            "      operador  no. reloj  asistencia\n",
            "0     John Doe        101        True\n",
            "1        Sr. X        202       False\n",
            "2  Lorem ipsum        303        True\n"
          ]
        }
      ]
    },
    {
      "cell_type": "code",
      "source": [
        "print(df.loc[0])"
      ],
      "metadata": {
        "colab": {
          "base_uri": "https://localhost:8080/"
        },
        "id": "GhqiMczrjKhR",
        "outputId": "2804fdef-f669-4728-c819-2c0ee2c151ff"
      },
      "execution_count": null,
      "outputs": [
        {
          "output_type": "stream",
          "name": "stdout",
          "text": [
            "operador      John Doe\n",
            "no. reloj          101\n",
            "asistencia        True\n",
            "Name: 0, dtype: object\n"
          ]
        }
      ]
    },
    {
      "cell_type": "code",
      "source": [
        "print(df.loc[[0,1]])"
      ],
      "metadata": {
        "colab": {
          "base_uri": "https://localhost:8080/"
        },
        "id": "qVeV0KE-jN-1",
        "outputId": "134e1525-8ca6-4022-adf7-63115af98bca"
      },
      "execution_count": null,
      "outputs": [
        {
          "output_type": "stream",
          "name": "stdout",
          "text": [
            "   operador  no. reloj  asistencia\n",
            "0  John Doe        101        True\n",
            "1     Sr. X        202       False\n"
          ]
        }
      ]
    },
    {
      "cell_type": "code",
      "source": [
        "df = pd.DataFrame(mydataset, index = [\"CEO\",\"COO\",\"CFO\"])\n",
        "print(df)"
      ],
      "metadata": {
        "colab": {
          "base_uri": "https://localhost:8080/"
        },
        "id": "zXQFGJAwjYSZ",
        "outputId": "1bd77ef7-7810-4a31-874c-ce7b0a4e9c67"
      },
      "execution_count": null,
      "outputs": [
        {
          "output_type": "stream",
          "name": "stdout",
          "text": [
            "        operador  no. reloj\n",
            "CEO     John Doe        101\n",
            "COO        Sr. X        202\n",
            "CFO  Lorem ipsum        303\n"
          ]
        }
      ]
    },
    {
      "cell_type": "code",
      "source": [
        "print(df.loc[[\"CEO\"]])"
      ],
      "metadata": {
        "colab": {
          "base_uri": "https://localhost:8080/"
        },
        "id": "figu8sEAjyBP",
        "outputId": "f0a7ca0f-6fab-4b31-b1f2-00710b88b002"
      },
      "execution_count": null,
      "outputs": [
        {
          "output_type": "stream",
          "name": "stdout",
          "text": [
            "     operador  no. reloj\n",
            "CEO  John Doe        101\n"
          ]
        }
      ]
    },
    {
      "cell_type": "markdown",
      "source": [
        "Vistas"
      ],
      "metadata": {
        "id": "SoKT3exbkz4y"
      }
    },
    {
      "cell_type": "code",
      "source": [
        "df.head()"
      ],
      "metadata": {
        "colab": {
          "base_uri": "https://localhost:8080/",
          "height": 634
        },
        "id": "bZgExCZ_lDD_",
        "outputId": "18908b03-f24a-46ed-e250-ca5b1812de04"
      },
      "execution_count": null,
      "outputs": [
        {
          "output_type": "execute_result",
          "data": {
            "text/plain": [
              "                   Marca temporal   1.- ¿De dónde eres?  \\\n",
              "0  2023/06/27 7:42:12 p. m. GMT-6            Cd. Juárez   \n",
              "1  2023/06/27 7:42:28 p. m. GMT-6  chihuahua, chihuahua   \n",
              "2  2023/06/27 7:42:44 p. m. GMT-6   Chihuahua Chihuahua   \n",
              "3  2023/06/27 7:42:52 p. m. GMT-6   Chihuahua Chihuahua   \n",
              "4  2023/06/27 7:42:56 p. m. GMT-6      Chihuahua, Chih.   \n",
              "\n",
              "  2.- ¿Cuántos años tienes? 3.- ¿Estudias? 4.- ¿Trabajas?  \\\n",
              "0             Entre 21 y 24             Sí             No   \n",
              "1             Entre 21 y 24             Sí             Sí   \n",
              "2             Entre 18 y 20             Sí             Sí   \n",
              "3             Entre 21 y 24             Sí             Sí   \n",
              "4                 Más de 30             No             Sí   \n",
              "\n",
              "  5.- ¿Cuál es tu nivel de conocimiento en Python?  \\\n",
              "0                                           Básico   \n",
              "1                                           Básico   \n",
              "2                                           Básico   \n",
              "3                                           Básico   \n",
              "4                                           Básico   \n",
              "\n",
              "  6.- ¿Qué tema relacionado con Python te gustaría aprender?  \\\n",
              "0                             Manejar bases de datos           \n",
              "1                                    machine lerning           \n",
              "2      Automatización y creación de apps/páginas web           \n",
              "3                                  Análisis de datos           \n",
              "4                              Conocer más librerias           \n",
              "\n",
              "  7.- ¿Has participado en algún curso anteriormente en el IA Center?  \\\n",
              "0                                                 No                   \n",
              "1                                                 Sí                   \n",
              "2                                                 No                   \n",
              "3                                                 Sí                   \n",
              "4                                                 Sí                   \n",
              "\n",
              "  8.- ¿Cuál es tu canción favorita?  \n",
              "0                          The Wolf  \n",
              "1                   eternity, anyma  \n",
              "2    Cornerstone- Arctic Monkeys :)  \n",
              "3                   Sea Gets Hotter  \n",
              "4        Love Me More, de Sam Smith  "
            ],
            "text/html": [
              "\n",
              "\n",
              "  <div id=\"df-e694e006-4f62-4f43-8e60-782aa6d97798\">\n",
              "    <div class=\"colab-df-container\">\n",
              "      <div>\n",
              "<style scoped>\n",
              "    .dataframe tbody tr th:only-of-type {\n",
              "        vertical-align: middle;\n",
              "    }\n",
              "\n",
              "    .dataframe tbody tr th {\n",
              "        vertical-align: top;\n",
              "    }\n",
              "\n",
              "    .dataframe thead th {\n",
              "        text-align: right;\n",
              "    }\n",
              "</style>\n",
              "<table border=\"1\" class=\"dataframe\">\n",
              "  <thead>\n",
              "    <tr style=\"text-align: right;\">\n",
              "      <th></th>\n",
              "      <th>Marca temporal</th>\n",
              "      <th>1.- ¿De dónde eres?</th>\n",
              "      <th>2.- ¿Cuántos años tienes?</th>\n",
              "      <th>3.- ¿Estudias?</th>\n",
              "      <th>4.- ¿Trabajas?</th>\n",
              "      <th>5.- ¿Cuál es tu nivel de conocimiento en Python?</th>\n",
              "      <th>6.- ¿Qué tema relacionado con Python te gustaría aprender?</th>\n",
              "      <th>7.- ¿Has participado en algún curso anteriormente en el IA Center?</th>\n",
              "      <th>8.- ¿Cuál es tu canción favorita?</th>\n",
              "    </tr>\n",
              "  </thead>\n",
              "  <tbody>\n",
              "    <tr>\n",
              "      <th>0</th>\n",
              "      <td>2023/06/27 7:42:12 p. m. GMT-6</td>\n",
              "      <td>Cd. Juárez</td>\n",
              "      <td>Entre 21 y 24</td>\n",
              "      <td>Sí</td>\n",
              "      <td>No</td>\n",
              "      <td>Básico</td>\n",
              "      <td>Manejar bases de datos</td>\n",
              "      <td>No</td>\n",
              "      <td>The Wolf</td>\n",
              "    </tr>\n",
              "    <tr>\n",
              "      <th>1</th>\n",
              "      <td>2023/06/27 7:42:28 p. m. GMT-6</td>\n",
              "      <td>chihuahua, chihuahua</td>\n",
              "      <td>Entre 21 y 24</td>\n",
              "      <td>Sí</td>\n",
              "      <td>Sí</td>\n",
              "      <td>Básico</td>\n",
              "      <td>machine lerning</td>\n",
              "      <td>Sí</td>\n",
              "      <td>eternity, anyma</td>\n",
              "    </tr>\n",
              "    <tr>\n",
              "      <th>2</th>\n",
              "      <td>2023/06/27 7:42:44 p. m. GMT-6</td>\n",
              "      <td>Chihuahua Chihuahua</td>\n",
              "      <td>Entre 18 y 20</td>\n",
              "      <td>Sí</td>\n",
              "      <td>Sí</td>\n",
              "      <td>Básico</td>\n",
              "      <td>Automatización y creación de apps/páginas web</td>\n",
              "      <td>No</td>\n",
              "      <td>Cornerstone- Arctic Monkeys :)</td>\n",
              "    </tr>\n",
              "    <tr>\n",
              "      <th>3</th>\n",
              "      <td>2023/06/27 7:42:52 p. m. GMT-6</td>\n",
              "      <td>Chihuahua Chihuahua</td>\n",
              "      <td>Entre 21 y 24</td>\n",
              "      <td>Sí</td>\n",
              "      <td>Sí</td>\n",
              "      <td>Básico</td>\n",
              "      <td>Análisis de datos</td>\n",
              "      <td>Sí</td>\n",
              "      <td>Sea Gets Hotter</td>\n",
              "    </tr>\n",
              "    <tr>\n",
              "      <th>4</th>\n",
              "      <td>2023/06/27 7:42:56 p. m. GMT-6</td>\n",
              "      <td>Chihuahua, Chih.</td>\n",
              "      <td>Más de 30</td>\n",
              "      <td>No</td>\n",
              "      <td>Sí</td>\n",
              "      <td>Básico</td>\n",
              "      <td>Conocer más librerias</td>\n",
              "      <td>Sí</td>\n",
              "      <td>Love Me More, de Sam Smith</td>\n",
              "    </tr>\n",
              "  </tbody>\n",
              "</table>\n",
              "</div>\n",
              "      <button class=\"colab-df-convert\" onclick=\"convertToInteractive('df-e694e006-4f62-4f43-8e60-782aa6d97798')\"\n",
              "              title=\"Convert this dataframe to an interactive table.\"\n",
              "              style=\"display:none;\">\n",
              "\n",
              "  <svg xmlns=\"http://www.w3.org/2000/svg\" height=\"24px\"viewBox=\"0 0 24 24\"\n",
              "       width=\"24px\">\n",
              "    <path d=\"M0 0h24v24H0V0z\" fill=\"none\"/>\n",
              "    <path d=\"M18.56 5.44l.94 2.06.94-2.06 2.06-.94-2.06-.94-.94-2.06-.94 2.06-2.06.94zm-11 1L8.5 8.5l.94-2.06 2.06-.94-2.06-.94L8.5 2.5l-.94 2.06-2.06.94zm10 10l.94 2.06.94-2.06 2.06-.94-2.06-.94-.94-2.06-.94 2.06-2.06.94z\"/><path d=\"M17.41 7.96l-1.37-1.37c-.4-.4-.92-.59-1.43-.59-.52 0-1.04.2-1.43.59L10.3 9.45l-7.72 7.72c-.78.78-.78 2.05 0 2.83L4 21.41c.39.39.9.59 1.41.59.51 0 1.02-.2 1.41-.59l7.78-7.78 2.81-2.81c.8-.78.8-2.07 0-2.86zM5.41 20L4 18.59l7.72-7.72 1.47 1.35L5.41 20z\"/>\n",
              "  </svg>\n",
              "      </button>\n",
              "\n",
              "\n",
              "\n",
              "    <div id=\"df-6d2da3aa-d434-431c-a901-2a602d87e703\">\n",
              "      <button class=\"colab-df-quickchart\" onclick=\"quickchart('df-6d2da3aa-d434-431c-a901-2a602d87e703')\"\n",
              "              title=\"Suggest charts.\"\n",
              "              style=\"display:none;\">\n",
              "\n",
              "<svg xmlns=\"http://www.w3.org/2000/svg\" height=\"24px\"viewBox=\"0 0 24 24\"\n",
              "     width=\"24px\">\n",
              "    <g>\n",
              "        <path d=\"M19 3H5c-1.1 0-2 .9-2 2v14c0 1.1.9 2 2 2h14c1.1 0 2-.9 2-2V5c0-1.1-.9-2-2-2zM9 17H7v-7h2v7zm4 0h-2V7h2v10zm4 0h-2v-4h2v4z\"/>\n",
              "    </g>\n",
              "</svg>\n",
              "      </button>\n",
              "    </div>\n",
              "\n",
              "<style>\n",
              "  .colab-df-quickchart {\n",
              "    background-color: #E8F0FE;\n",
              "    border: none;\n",
              "    border-radius: 50%;\n",
              "    cursor: pointer;\n",
              "    display: none;\n",
              "    fill: #1967D2;\n",
              "    height: 32px;\n",
              "    padding: 0 0 0 0;\n",
              "    width: 32px;\n",
              "  }\n",
              "\n",
              "  .colab-df-quickchart:hover {\n",
              "    background-color: #E2EBFA;\n",
              "    box-shadow: 0px 1px 2px rgba(60, 64, 67, 0.3), 0px 1px 3px 1px rgba(60, 64, 67, 0.15);\n",
              "    fill: #174EA6;\n",
              "  }\n",
              "\n",
              "  [theme=dark] .colab-df-quickchart {\n",
              "    background-color: #3B4455;\n",
              "    fill: #D2E3FC;\n",
              "  }\n",
              "\n",
              "  [theme=dark] .colab-df-quickchart:hover {\n",
              "    background-color: #434B5C;\n",
              "    box-shadow: 0px 1px 3px 1px rgba(0, 0, 0, 0.15);\n",
              "    filter: drop-shadow(0px 1px 2px rgba(0, 0, 0, 0.3));\n",
              "    fill: #FFFFFF;\n",
              "  }\n",
              "</style>\n",
              "\n",
              "    <script>\n",
              "      async function quickchart(key) {\n",
              "        const containerElement = document.querySelector('#' + key);\n",
              "        const charts = await google.colab.kernel.invokeFunction(\n",
              "            'suggestCharts', [key], {});\n",
              "      }\n",
              "    </script>\n",
              "\n",
              "      <script>\n",
              "\n",
              "function displayQuickchartButton(domScope) {\n",
              "  let quickchartButtonEl =\n",
              "    domScope.querySelector('#df-6d2da3aa-d434-431c-a901-2a602d87e703 button.colab-df-quickchart');\n",
              "  quickchartButtonEl.style.display =\n",
              "    google.colab.kernel.accessAllowed ? 'block' : 'none';\n",
              "}\n",
              "\n",
              "        displayQuickchartButton(document);\n",
              "      </script>\n",
              "      <style>\n",
              "    .colab-df-container {\n",
              "      display:flex;\n",
              "      flex-wrap:wrap;\n",
              "      gap: 12px;\n",
              "    }\n",
              "\n",
              "    .colab-df-convert {\n",
              "      background-color: #E8F0FE;\n",
              "      border: none;\n",
              "      border-radius: 50%;\n",
              "      cursor: pointer;\n",
              "      display: none;\n",
              "      fill: #1967D2;\n",
              "      height: 32px;\n",
              "      padding: 0 0 0 0;\n",
              "      width: 32px;\n",
              "    }\n",
              "\n",
              "    .colab-df-convert:hover {\n",
              "      background-color: #E2EBFA;\n",
              "      box-shadow: 0px 1px 2px rgba(60, 64, 67, 0.3), 0px 1px 3px 1px rgba(60, 64, 67, 0.15);\n",
              "      fill: #174EA6;\n",
              "    }\n",
              "\n",
              "    [theme=dark] .colab-df-convert {\n",
              "      background-color: #3B4455;\n",
              "      fill: #D2E3FC;\n",
              "    }\n",
              "\n",
              "    [theme=dark] .colab-df-convert:hover {\n",
              "      background-color: #434B5C;\n",
              "      box-shadow: 0px 1px 3px 1px rgba(0, 0, 0, 0.15);\n",
              "      filter: drop-shadow(0px 1px 2px rgba(0, 0, 0, 0.3));\n",
              "      fill: #FFFFFF;\n",
              "    }\n",
              "  </style>\n",
              "\n",
              "      <script>\n",
              "        const buttonEl =\n",
              "          document.querySelector('#df-e694e006-4f62-4f43-8e60-782aa6d97798 button.colab-df-convert');\n",
              "        buttonEl.style.display =\n",
              "          google.colab.kernel.accessAllowed ? 'block' : 'none';\n",
              "\n",
              "        async function convertToInteractive(key) {\n",
              "          const element = document.querySelector('#df-e694e006-4f62-4f43-8e60-782aa6d97798');\n",
              "          const dataTable =\n",
              "            await google.colab.kernel.invokeFunction('convertToInteractive',\n",
              "                                                     [key], {});\n",
              "          if (!dataTable) return;\n",
              "\n",
              "          const docLinkHtml = 'Like what you see? Visit the ' +\n",
              "            '<a target=\"_blank\" href=https://colab.research.google.com/notebooks/data_table.ipynb>data table notebook</a>'\n",
              "            + ' to learn more about interactive tables.';\n",
              "          element.innerHTML = '';\n",
              "          dataTable['output_type'] = 'display_data';\n",
              "          await google.colab.output.renderOutput(dataTable, element);\n",
              "          const docLink = document.createElement('div');\n",
              "          docLink.innerHTML = docLinkHtml;\n",
              "          element.appendChild(docLink);\n",
              "        }\n",
              "      </script>\n",
              "    </div>\n",
              "  </div>\n"
            ]
          },
          "metadata": {},
          "execution_count": 73
        }
      ]
    },
    {
      "cell_type": "code",
      "source": [
        "df.tail()"
      ],
      "metadata": {
        "colab": {
          "base_uri": "https://localhost:8080/",
          "height": 652
        },
        "id": "6KmqVEIwoDz6",
        "outputId": "b2ce27c3-2815-473e-b7f4-c3f20cbf54b6"
      },
      "execution_count": null,
      "outputs": [
        {
          "output_type": "execute_result",
          "data": {
            "text/plain": [
              "                     Marca temporal                1.- ¿De dónde eres?  \\\n",
              "38  2023/06/27 10:02:11 p. m. GMT-6                Ciudad Juarez, Chih   \n",
              "39  2023/06/27 10:31:28 p. m. GMT-6                          cd juarez   \n",
              "40  2023/06/28 10:12:04 p. m. GMT-6                          Chihuahua   \n",
              "41   2023/06/29 2:00:51 a. m. GMT-6  Vivo en Ciudad Juárez. Soy cubana   \n",
              "42   2023/07/03 1:55:24 p. m. GMT-6                      Ciudad Juarez   \n",
              "\n",
              "   2.- ¿Cuántos años tienes? 3.- ¿Estudias? 4.- ¿Trabajas?  \\\n",
              "38             Entre 21 y 24             No             Sí   \n",
              "39             Entre 21 y 24             Sí             Sí   \n",
              "40             Entre 21 y 24             No             Sí   \n",
              "41                 Más de 30             Sí             No   \n",
              "42                 Más de 30             No             Sí   \n",
              "\n",
              "   5.- ¿Cuál es tu nivel de conocimiento en Python?  \\\n",
              "38                                           Básico   \n",
              "39                                           Básico   \n",
              "40                                           Básico   \n",
              "41                                       Intermedio   \n",
              "42                                       Intermedio   \n",
              "\n",
              "   6.- ¿Qué tema relacionado con Python te gustaría aprender?  \\\n",
              "38                                  Analisis de datos           \n",
              "39                                           punteros           \n",
              "40                   Machine Learning y Deep Learning           \n",
              "41  Cómo escribir un código de forma profesional, ...           \n",
              "42                                     Automatizacion           \n",
              "\n",
              "   7.- ¿Has participado en algún curso anteriormente en el IA Center?  \\\n",
              "38                                                 Sí                   \n",
              "39                                                 Sí                   \n",
              "40                                                 Sí                   \n",
              "41                                                 No                   \n",
              "42                                                 No                   \n",
              "\n",
              "                    8.- ¿Cuál es tu canción favorita?  \n",
              "38                       https://youtu.be/BGVUiMskx_U  \n",
              "39                             porter guiame quetzal   \n",
              "40                                            Runaway  \n",
              "41  Hay varias, pero últimamente escucho mucho \"Cu...  \n",
              "42                              David Bowie - Heroes   "
            ],
            "text/html": [
              "\n",
              "\n",
              "  <div id=\"df-8649ef23-36bb-49ee-95c9-a5e4f10134b3\">\n",
              "    <div class=\"colab-df-container\">\n",
              "      <div>\n",
              "<style scoped>\n",
              "    .dataframe tbody tr th:only-of-type {\n",
              "        vertical-align: middle;\n",
              "    }\n",
              "\n",
              "    .dataframe tbody tr th {\n",
              "        vertical-align: top;\n",
              "    }\n",
              "\n",
              "    .dataframe thead th {\n",
              "        text-align: right;\n",
              "    }\n",
              "</style>\n",
              "<table border=\"1\" class=\"dataframe\">\n",
              "  <thead>\n",
              "    <tr style=\"text-align: right;\">\n",
              "      <th></th>\n",
              "      <th>Marca temporal</th>\n",
              "      <th>1.- ¿De dónde eres?</th>\n",
              "      <th>2.- ¿Cuántos años tienes?</th>\n",
              "      <th>3.- ¿Estudias?</th>\n",
              "      <th>4.- ¿Trabajas?</th>\n",
              "      <th>5.- ¿Cuál es tu nivel de conocimiento en Python?</th>\n",
              "      <th>6.- ¿Qué tema relacionado con Python te gustaría aprender?</th>\n",
              "      <th>7.- ¿Has participado en algún curso anteriormente en el IA Center?</th>\n",
              "      <th>8.- ¿Cuál es tu canción favorita?</th>\n",
              "    </tr>\n",
              "  </thead>\n",
              "  <tbody>\n",
              "    <tr>\n",
              "      <th>38</th>\n",
              "      <td>2023/06/27 10:02:11 p. m. GMT-6</td>\n",
              "      <td>Ciudad Juarez, Chih</td>\n",
              "      <td>Entre 21 y 24</td>\n",
              "      <td>No</td>\n",
              "      <td>Sí</td>\n",
              "      <td>Básico</td>\n",
              "      <td>Analisis de datos</td>\n",
              "      <td>Sí</td>\n",
              "      <td>https://youtu.be/BGVUiMskx_U</td>\n",
              "    </tr>\n",
              "    <tr>\n",
              "      <th>39</th>\n",
              "      <td>2023/06/27 10:31:28 p. m. GMT-6</td>\n",
              "      <td>cd juarez</td>\n",
              "      <td>Entre 21 y 24</td>\n",
              "      <td>Sí</td>\n",
              "      <td>Sí</td>\n",
              "      <td>Básico</td>\n",
              "      <td>punteros</td>\n",
              "      <td>Sí</td>\n",
              "      <td>porter guiame quetzal</td>\n",
              "    </tr>\n",
              "    <tr>\n",
              "      <th>40</th>\n",
              "      <td>2023/06/28 10:12:04 p. m. GMT-6</td>\n",
              "      <td>Chihuahua</td>\n",
              "      <td>Entre 21 y 24</td>\n",
              "      <td>No</td>\n",
              "      <td>Sí</td>\n",
              "      <td>Básico</td>\n",
              "      <td>Machine Learning y Deep Learning</td>\n",
              "      <td>Sí</td>\n",
              "      <td>Runaway</td>\n",
              "    </tr>\n",
              "    <tr>\n",
              "      <th>41</th>\n",
              "      <td>2023/06/29 2:00:51 a. m. GMT-6</td>\n",
              "      <td>Vivo en Ciudad Juárez. Soy cubana</td>\n",
              "      <td>Más de 30</td>\n",
              "      <td>Sí</td>\n",
              "      <td>No</td>\n",
              "      <td>Intermedio</td>\n",
              "      <td>Cómo escribir un código de forma profesional, ...</td>\n",
              "      <td>No</td>\n",
              "      <td>Hay varias, pero últimamente escucho mucho \"Cu...</td>\n",
              "    </tr>\n",
              "    <tr>\n",
              "      <th>42</th>\n",
              "      <td>2023/07/03 1:55:24 p. m. GMT-6</td>\n",
              "      <td>Ciudad Juarez</td>\n",
              "      <td>Más de 30</td>\n",
              "      <td>No</td>\n",
              "      <td>Sí</td>\n",
              "      <td>Intermedio</td>\n",
              "      <td>Automatizacion</td>\n",
              "      <td>No</td>\n",
              "      <td>David Bowie - Heroes</td>\n",
              "    </tr>\n",
              "  </tbody>\n",
              "</table>\n",
              "</div>\n",
              "      <button class=\"colab-df-convert\" onclick=\"convertToInteractive('df-8649ef23-36bb-49ee-95c9-a5e4f10134b3')\"\n",
              "              title=\"Convert this dataframe to an interactive table.\"\n",
              "              style=\"display:none;\">\n",
              "\n",
              "  <svg xmlns=\"http://www.w3.org/2000/svg\" height=\"24px\"viewBox=\"0 0 24 24\"\n",
              "       width=\"24px\">\n",
              "    <path d=\"M0 0h24v24H0V0z\" fill=\"none\"/>\n",
              "    <path d=\"M18.56 5.44l.94 2.06.94-2.06 2.06-.94-2.06-.94-.94-2.06-.94 2.06-2.06.94zm-11 1L8.5 8.5l.94-2.06 2.06-.94-2.06-.94L8.5 2.5l-.94 2.06-2.06.94zm10 10l.94 2.06.94-2.06 2.06-.94-2.06-.94-.94-2.06-.94 2.06-2.06.94z\"/><path d=\"M17.41 7.96l-1.37-1.37c-.4-.4-.92-.59-1.43-.59-.52 0-1.04.2-1.43.59L10.3 9.45l-7.72 7.72c-.78.78-.78 2.05 0 2.83L4 21.41c.39.39.9.59 1.41.59.51 0 1.02-.2 1.41-.59l7.78-7.78 2.81-2.81c.8-.78.8-2.07 0-2.86zM5.41 20L4 18.59l7.72-7.72 1.47 1.35L5.41 20z\"/>\n",
              "  </svg>\n",
              "      </button>\n",
              "\n",
              "\n",
              "\n",
              "    <div id=\"df-ab14f7cd-9a72-4af9-99dc-ea7006b1e5b3\">\n",
              "      <button class=\"colab-df-quickchart\" onclick=\"quickchart('df-ab14f7cd-9a72-4af9-99dc-ea7006b1e5b3')\"\n",
              "              title=\"Suggest charts.\"\n",
              "              style=\"display:none;\">\n",
              "\n",
              "<svg xmlns=\"http://www.w3.org/2000/svg\" height=\"24px\"viewBox=\"0 0 24 24\"\n",
              "     width=\"24px\">\n",
              "    <g>\n",
              "        <path d=\"M19 3H5c-1.1 0-2 .9-2 2v14c0 1.1.9 2 2 2h14c1.1 0 2-.9 2-2V5c0-1.1-.9-2-2-2zM9 17H7v-7h2v7zm4 0h-2V7h2v10zm4 0h-2v-4h2v4z\"/>\n",
              "    </g>\n",
              "</svg>\n",
              "      </button>\n",
              "    </div>\n",
              "\n",
              "<style>\n",
              "  .colab-df-quickchart {\n",
              "    background-color: #E8F0FE;\n",
              "    border: none;\n",
              "    border-radius: 50%;\n",
              "    cursor: pointer;\n",
              "    display: none;\n",
              "    fill: #1967D2;\n",
              "    height: 32px;\n",
              "    padding: 0 0 0 0;\n",
              "    width: 32px;\n",
              "  }\n",
              "\n",
              "  .colab-df-quickchart:hover {\n",
              "    background-color: #E2EBFA;\n",
              "    box-shadow: 0px 1px 2px rgba(60, 64, 67, 0.3), 0px 1px 3px 1px rgba(60, 64, 67, 0.15);\n",
              "    fill: #174EA6;\n",
              "  }\n",
              "\n",
              "  [theme=dark] .colab-df-quickchart {\n",
              "    background-color: #3B4455;\n",
              "    fill: #D2E3FC;\n",
              "  }\n",
              "\n",
              "  [theme=dark] .colab-df-quickchart:hover {\n",
              "    background-color: #434B5C;\n",
              "    box-shadow: 0px 1px 3px 1px rgba(0, 0, 0, 0.15);\n",
              "    filter: drop-shadow(0px 1px 2px rgba(0, 0, 0, 0.3));\n",
              "    fill: #FFFFFF;\n",
              "  }\n",
              "</style>\n",
              "\n",
              "    <script>\n",
              "      async function quickchart(key) {\n",
              "        const containerElement = document.querySelector('#' + key);\n",
              "        const charts = await google.colab.kernel.invokeFunction(\n",
              "            'suggestCharts', [key], {});\n",
              "      }\n",
              "    </script>\n",
              "\n",
              "      <script>\n",
              "\n",
              "function displayQuickchartButton(domScope) {\n",
              "  let quickchartButtonEl =\n",
              "    domScope.querySelector('#df-ab14f7cd-9a72-4af9-99dc-ea7006b1e5b3 button.colab-df-quickchart');\n",
              "  quickchartButtonEl.style.display =\n",
              "    google.colab.kernel.accessAllowed ? 'block' : 'none';\n",
              "}\n",
              "\n",
              "        displayQuickchartButton(document);\n",
              "      </script>\n",
              "      <style>\n",
              "    .colab-df-container {\n",
              "      display:flex;\n",
              "      flex-wrap:wrap;\n",
              "      gap: 12px;\n",
              "    }\n",
              "\n",
              "    .colab-df-convert {\n",
              "      background-color: #E8F0FE;\n",
              "      border: none;\n",
              "      border-radius: 50%;\n",
              "      cursor: pointer;\n",
              "      display: none;\n",
              "      fill: #1967D2;\n",
              "      height: 32px;\n",
              "      padding: 0 0 0 0;\n",
              "      width: 32px;\n",
              "    }\n",
              "\n",
              "    .colab-df-convert:hover {\n",
              "      background-color: #E2EBFA;\n",
              "      box-shadow: 0px 1px 2px rgba(60, 64, 67, 0.3), 0px 1px 3px 1px rgba(60, 64, 67, 0.15);\n",
              "      fill: #174EA6;\n",
              "    }\n",
              "\n",
              "    [theme=dark] .colab-df-convert {\n",
              "      background-color: #3B4455;\n",
              "      fill: #D2E3FC;\n",
              "    }\n",
              "\n",
              "    [theme=dark] .colab-df-convert:hover {\n",
              "      background-color: #434B5C;\n",
              "      box-shadow: 0px 1px 3px 1px rgba(0, 0, 0, 0.15);\n",
              "      filter: drop-shadow(0px 1px 2px rgba(0, 0, 0, 0.3));\n",
              "      fill: #FFFFFF;\n",
              "    }\n",
              "  </style>\n",
              "\n",
              "      <script>\n",
              "        const buttonEl =\n",
              "          document.querySelector('#df-8649ef23-36bb-49ee-95c9-a5e4f10134b3 button.colab-df-convert');\n",
              "        buttonEl.style.display =\n",
              "          google.colab.kernel.accessAllowed ? 'block' : 'none';\n",
              "\n",
              "        async function convertToInteractive(key) {\n",
              "          const element = document.querySelector('#df-8649ef23-36bb-49ee-95c9-a5e4f10134b3');\n",
              "          const dataTable =\n",
              "            await google.colab.kernel.invokeFunction('convertToInteractive',\n",
              "                                                     [key], {});\n",
              "          if (!dataTable) return;\n",
              "\n",
              "          const docLinkHtml = 'Like what you see? Visit the ' +\n",
              "            '<a target=\"_blank\" href=https://colab.research.google.com/notebooks/data_table.ipynb>data table notebook</a>'\n",
              "            + ' to learn more about interactive tables.';\n",
              "          element.innerHTML = '';\n",
              "          dataTable['output_type'] = 'display_data';\n",
              "          await google.colab.output.renderOutput(dataTable, element);\n",
              "          const docLink = document.createElement('div');\n",
              "          docLink.innerHTML = docLinkHtml;\n",
              "          element.appendChild(docLink);\n",
              "        }\n",
              "      </script>\n",
              "    </div>\n",
              "  </div>\n"
            ]
          },
          "metadata": {},
          "execution_count": 74
        }
      ]
    },
    {
      "cell_type": "code",
      "source": [
        "df.info()"
      ],
      "metadata": {
        "colab": {
          "base_uri": "https://localhost:8080/"
        },
        "id": "hWaSb9A6oMn-",
        "outputId": "e4e4a36b-00a1-4d8e-9a08-f44ecdc4c57b"
      },
      "execution_count": null,
      "outputs": [
        {
          "output_type": "stream",
          "name": "stdout",
          "text": [
            "<class 'pandas.core.frame.DataFrame'>\n",
            "RangeIndex: 43 entries, 0 to 42\n",
            "Data columns (total 9 columns):\n",
            " #   Column                                                              Non-Null Count  Dtype \n",
            "---  ------                                                              --------------  ----- \n",
            " 0   Marca temporal                                                      43 non-null     object\n",
            " 1   1.- ¿De dónde eres?                                                 43 non-null     object\n",
            " 2   2.- ¿Cuántos años tienes?                                           43 non-null     object\n",
            " 3   3.- ¿Estudias?                                                      43 non-null     object\n",
            " 4   4.- ¿Trabajas?                                                      43 non-null     object\n",
            " 5   5.- ¿Cuál es tu nivel de conocimiento en Python?                    43 non-null     object\n",
            " 6   6.- ¿Qué tema relacionado con Python te gustaría aprender?          43 non-null     object\n",
            " 7   7.- ¿Has participado en algún curso anteriormente en el IA Center?  43 non-null     object\n",
            " 8   8.- ¿Cuál es tu canción favorita?                                   43 non-null     object\n",
            "dtypes: object(9)\n",
            "memory usage: 3.1+ KB\n"
          ]
        }
      ]
    },
    {
      "cell_type": "markdown",
      "source": [
        "CSV"
      ],
      "metadata": {
        "id": "7jd74i6UlA4C"
      }
    },
    {
      "cell_type": "code",
      "source": [
        "df=pd.read_csv('Perfil de estudiante.csv')\n",
        "print(df.to_string())"
      ],
      "metadata": {
        "colab": {
          "base_uri": "https://localhost:8080/"
        },
        "id": "zfzjYV-Kk08K",
        "outputId": "8c45d6d2-7998-472f-b474-36b69ef44b3a"
      },
      "execution_count": null,
      "outputs": [
        {
          "output_type": "stream",
          "name": "stdout",
          "text": [
            "                     Marca temporal                        1.- ¿De dónde eres? 2.- ¿Cuántos años tienes? 3.- ¿Estudias? 4.- ¿Trabajas? 5.- ¿Cuál es tu nivel de conocimiento en Python?                                           6.- ¿Qué tema relacionado con Python te gustaría aprender? 7.- ¿Has participado en algún curso anteriormente en el IA Center?                             8.- ¿Cuál es tu canción favorita?\n",
            "0    2023/06/27 7:42:12 p. m. GMT-6                                 Cd. Juárez             Entre 21 y 24             Sí             No                                           Básico                                                                               Manejar bases de datos                                                                 No                                                      The Wolf\n",
            "1    2023/06/27 7:42:28 p. m. GMT-6                       chihuahua, chihuahua             Entre 21 y 24             Sí             Sí                                           Básico                                                                                      machine lerning                                                                 Sí                                               eternity, anyma\n",
            "2    2023/06/27 7:42:44 p. m. GMT-6                        Chihuahua Chihuahua             Entre 18 y 20             Sí             Sí                                           Básico                                                        Automatización y creación de apps/páginas web                                                                 No                                Cornerstone- Arctic Monkeys :)\n",
            "3    2023/06/27 7:42:52 p. m. GMT-6                        Chihuahua Chihuahua             Entre 21 y 24             Sí             Sí                                           Básico                                                                                    Análisis de datos                                                                 Sí                                               Sea Gets Hotter\n",
            "4    2023/06/27 7:42:56 p. m. GMT-6                           Chihuahua, Chih.                 Más de 30             No             Sí                                           Básico                                                                                Conocer más librerias                                                                 Sí                                    Love Me More, de Sam Smith\n",
            "5    2023/06/27 7:42:57 p. m. GMT-6                                     Puebla             Entre 21 y 24             Sí             Sí                                           Básico                                                                                  APIS y data science                                                                 No                                      Fireflight - Unbreakable\n",
            "6    2023/06/27 7:42:57 p. m. GMT-6                            Cd. Juarez Chih                 Más de 30             No             Sí                                       Intermedio                                                                                    Analisis de Datos                                                                 Sí                                          Instrumental General\n",
            "7    2023/06/27 7:43:04 p. m. GMT-6                              Ciudad Juarez             Entre 21 y 24             Sí             Sí                                           Básico                                                                                     Ciencia de datos                                                                 Sí                                     La bruja de Marco Flores \n",
            "8    2023/06/27 7:43:10 p. m. GMT-6                             Aguascalientes             Entre 18 y 20             Sí             No                                           Básico  Me gustaria aprender un poco de todo, pero mas que nada me gustaria practicar mas los conocimientos                                                                 No                                           Canela-Nanpa Basico\n",
            "9    2023/06/27 7:43:12 p. m. GMT-6                           Cd Juarez, Chih.             Entre 21 y 24             Sí             No                                           Básico                                       No tengo un tema en especifico, solo deseo repasar y aprender                                                                  Sí          Depende del momento hy del día, ahora es Hielo - Zoé\n",
            "10   2023/06/27 7:43:12 p. m. GMT-6                                     Juárez             Entre 21 y 24             Sí             Sí                                           Básico                                                                                    Análisis de datos                                                                 No                                                    No tengo:(\n",
            "11   2023/06/27 7:43:16 p. m. GMT-6                                 El Paso TX             Entre 18 y 20             Sí             No                                           Básico                                                                                                  POO                                                                 No                                 The Words I Never Said / Mage\n",
            "12   2023/06/27 7:43:16 p. m. GMT-6                       Cuauhtemoc Chihuahua                 Más de 30             No             Sí                                       Intermedio                                                                              Web y análisis de datos                                                                 No                                              Dust in the wind\n",
            "13   2023/06/27 7:43:29 p. m. GMT-6                                Cd. Juárez              Entre 21 y 24             Sí             Sí                                           Básico                         Flujos de trabajo, análisis de datos, análisis estadístico y automatización                                                                  Sí                                       Manto estelar - Moenia \n",
            "14   2023/06/27 7:43:34 p. m. GMT-6                                    Hidalgo             Entre 25 y 29             Sí             Sí                                           Básico                                                                                        Deep learning                                                                 No                                                         Todas\n",
            "15   2023/06/27 7:43:50 p. m. GMT-6                          Cd. Juarez, Chih.             Entre 21 y 24             Sí             Sí                                           Básico                                                               Programación orientada a objetos (POO)                                                                 Sí                        Skillet-Comatose y Whisper in the Dark\n",
            "16   2023/06/27 7:44:01 p. m. GMT-6                       Cd. Juarez Chihuahua                 Más de 30             No             Sí                                           Básico                                        un poco de todo para irme familiarizandome a la prograamacion                                                                 Sí                             el hada y el mago de reta blancha\n",
            "17   2023/06/27 7:44:01 p. m. GMT-6             Ciudad Juarez Chihuahua Mexico             Entre 21 y 24             No             No                                           Básico                                                                                            API y IA                                                                  Sí   https://youtu.be/dQw4w9WgXcQ y https://youtu.be/yJDBmP9Mexk\n",
            "18   2023/06/27 7:44:12 p. m. GMT-6                              Ciudad Juarez                 Más de 30             Sí             No                                           Básico                                                       Web Scrapping y limpieza de conjuntos de datos                                                                 Sí                                              Hotel California\n",
            "19   2023/06/27 7:44:14 p. m. GMT-6                           Chihuahua, Chih.                 Más de 30             No             Sí                                           Básico                                                                                    análisis de datos                                                                 Sí   no tengo canción favorita, prácticamente no escucho música \n",
            "20   2023/06/27 7:44:17 p. m. GMT-6                              Ciudad Juarez             Entre 18 y 20             Sí             No                                           Básico                                                       Analisis de datos y su uso para desarrollo web                                                                 No                                     Burn My Dread - Persona 3\n",
            "21   2023/06/27 7:44:20 p. m. GMT-6               Cd Juárez Chihuahua, México.                 Más de 30             No             Sí                                           Básico                                                        Ciencia de Datos, y API`s y Todo lo de Python                                                                 Sí                                                          ....\n",
            "22   2023/06/27 7:44:25 p. m. GMT-6                              Ciudad Juárez                 Más de 30             No             Sí                                           Básico                                                       recolección, limpieza y visualización de datos                                                                 Sí                                                   Todo cuenta\n",
            "23   2023/06/27 7:44:30 p. m. GMT-6                                 Cd. Juárez             Entre 25 y 29             Sí             No                                           Básico                                                                                     Ciencia de datos                                                                 Sí                                             Chosen - Maneskin\n",
            "24   2023/06/27 7:44:31 p. m. GMT-6                                     Juarez             Entre 25 y 29             Sí             Sí                                           Básico         Como hacer una interfaz para poder hacer un programa funcional para terceros. Python con SQL                                                                 Sí                                             God's Plan- Drake\n",
            "25   2023/06/27 7:45:04 p. m. GMT-6                     Cd. Juárez, Chihuahua              Entre 18 y 20             Sí             No                        Nunca he utilizado Python                                                                      Programación para uso academico                                                                 No                    A man without love - Engelbert Humperdinck\n",
            "26   2023/06/27 7:45:37 p. m. GMT-6                            Aguascalientes              Entre 21 y 24             Sí             No                                       Intermedio                                                                  un poco de inteligencia artificial                                                                  No                                              Love of my life \n",
            "27   2023/06/27 7:45:45 p. m. GMT-6                                 Cd. Juarez             Entre 15 y 17             Sí             No                                           Básico                                                                                               Bucles                                                                 Sí                               Jorge Drexler - El Plan Maestro\n",
            "28   2023/06/27 7:46:10 p. m. GMT-6  San Francisco de los Romo, Aguascalientes             Entre 18 y 20             Sí             No                                           Básico                                           Librerias con aplicaciones en el mundo de las matemáticas.                                                                 No                                     Inolvidable - Luis Miguel\n",
            "29   2023/06/27 7:46:14 p. m. GMT-6                                  Chihuahua             Entre 18 y 20             Sí             Sí                                           Básico                                                                                           desarrollo                                                                 No                                                     Last Call\n",
            "30   2023/06/27 7:46:28 p. m. GMT-6                              Ciudad Juárez             Entre 21 y 24             Sí             No                                           Básico                                                                               Procesamiento de datos                                                                 Sí                              Lacrimosa- Matt Kent, Amber Dawn\n",
            "31   2023/06/27 7:46:32 p. m. GMT-6                                 Zacatecas              Entre 25 y 29             Sí             Sí                                           Básico                                                                                                 Apis                                                                 Sí                                          All the small things\n",
            "32   2023/06/27 7:46:37 p. m. GMT-6                              Ciudad Juarez             Entre 21 y 24             Sí             Sí                                           Básico                                                                                      MachineLearning                                                                 No                           Like I Love You - Justin Timberlake\n",
            "33   2023/06/27 7:49:23 p. m. GMT-6                              Ciudad Juárez             Entre 18 y 20             Sí             No                                           Básico                                                                    Ciencia de Datos y automatización                                                                 Sí                  Cold Heart - PNAU REMIX Elton Jhon, Dua Lipa\n",
            "34   2023/06/27 7:51:23 p. m. GMT-6                              Ciudad Juarez             Entre 25 y 29             Sí             Sí                                       Intermedio                                                                        ciencia de datos, webscraping                                                                 Sí                                 Gorillaz - On Melancholy Hill\n",
            "35   2023/06/27 7:55:00 p. m. GMT-6                Veracruz, estudio en Puebla             Entre 25 y 29             Sí             No                                           Básico                                                                Lo relacionado con análisis de datos.                                                                 Sí        En este momento Los Años Maravillosos de Little Jesus \n",
            "36   2023/06/27 8:05:42 p. m. GMT-6                                       CDMX             Entre 25 y 29             No             Sí                                           Básico                                                                                         web scraping                                                                 No                                                   Young Turks\n",
            "37   2023/06/27 8:22:29 p. m. GMT-6                           Estado de Mexico             Entre 21 y 24             Sí             Sí                                           Básico                                                                  librerias, bloques paquetes etc....                                                                 No                                       the weeknd- Out of time\n",
            "38  2023/06/27 10:02:11 p. m. GMT-6                        Ciudad Juarez, Chih             Entre 21 y 24             No             Sí                                           Básico                                                                                    Analisis de datos                                                                 Sí                                  https://youtu.be/BGVUiMskx_U\n",
            "39  2023/06/27 10:31:28 p. m. GMT-6                                  cd juarez             Entre 21 y 24             Sí             Sí                                           Básico                                                                                             punteros                                                                 Sí                                        porter guiame quetzal \n",
            "40  2023/06/28 10:12:04 p. m. GMT-6                                  Chihuahua             Entre 21 y 24             No             Sí                                           Básico                                                                     Machine Learning y Deep Learning                                                                 Sí                                                       Runaway\n",
            "41   2023/06/29 2:00:51 a. m. GMT-6          Vivo en Ciudad Juárez. Soy cubana                 Más de 30             Sí             No                                       Intermedio       Cómo escribir un código de forma profesional, utilizando las herramientas necesarias y óptimas                                                                 No  Hay varias, pero últimamente escucho mucho \"Cuba Isla Bella\"\n",
            "42   2023/07/03 1:55:24 p. m. GMT-6                              Ciudad Juarez                 Más de 30             No             Sí                                       Intermedio                                                                                       Automatizacion                                                                 No                                         David Bowie - Heroes \n"
          ]
        }
      ]
    },
    {
      "cell_type": "markdown",
      "source": [
        "# ***JSON***"
      ],
      "metadata": {
        "id": "HTNFVoT2o-6p"
      }
    },
    {
      "cell_type": "code",
      "source": [
        "df = pd.read_json('dataset.json')\n",
        "print(df.to_string())"
      ],
      "metadata": {
        "colab": {
          "base_uri": "https://localhost:8080/"
        },
        "id": "rDDp8zQHoZkA",
        "outputId": "7a9be14b-cbf9-477b-f0f7-b080bc111f8c"
      },
      "execution_count": 78,
      "outputs": [
        {
          "output_type": "stream",
          "name": "stdout",
          "text": [
            "                                                 personas\n",
            "0      {'nombre': 'Juan', 'edad': 25, 'ciudad': 'Madrid'}\n",
            "1  {'nombre': 'María', 'edad': 30, 'ciudad': 'Barcelona'}\n",
            "2   {'nombre': 'Pedro', 'edad': 35, 'ciudad': 'Valencia'}\n"
          ]
        }
      ]
    },
    {
      "cell_type": "markdown",
      "source": [
        "***Limpieza de datos***"
      ],
      "metadata": {
        "id": "bwsABI97puxO"
      }
    },
    {
      "cell_type": "code",
      "source": [
        "data = {\n",
        "    'Nombre':['Juan','Maria','Pedro','Ana','Luis'],\n",
        "    'Edad': [25, 32, None, 42, 28],\n",
        "\n",
        "    'Fecha': ['31/01/2020', '31/01/2020', None, '31/01/2020', '01/31/2020'],\n",
        "\n",
        "    'Género': ['M', 'F', None, 'F', 'M'],\n",
        "\n",
        "    'Ciudad': ['Madrid', None, 'Madrid', 'Valencia', 'Barcelona'],\n",
        "\n",
        "    'Altura': [175, 163, 180, 158, 170],\n",
        "\n",
        "    'Peso': [70, None, 80, 60, 75],\n",
        "\n",
        "    'Ingresos': [50000, 60000, 40000, None, 55000]\n",
        "}"
      ],
      "metadata": {
        "id": "MPl4j0vap2Zz"
      },
      "execution_count": 111,
      "outputs": []
    },
    {
      "cell_type": "code",
      "source": [
        "df = pd.DataFrame(data)\n",
        "print(df)"
      ],
      "metadata": {
        "colab": {
          "base_uri": "https://localhost:8080/"
        },
        "id": "Xd4i_NUZqQCv",
        "outputId": "4c2b0404-6edf-4c8c-998c-19d1b4b61962"
      },
      "execution_count": 173,
      "outputs": [
        {
          "output_type": "stream",
          "name": "stdout",
          "text": [
            "  Nombre  Edad       Fecha Género     Ciudad  Altura  Peso  Ingresos\n",
            "0   Juan  25.0  31/01/2020      M     Madrid     175  70.0   50000.0\n",
            "1  Maria  32.0  31/01/2020      F       None     163   NaN   60000.0\n",
            "2  Pedro   NaN        None   None     Madrid     180  80.0   40000.0\n",
            "3    Ana  42.0  31/01/2020      F   Valencia     158  60.0       NaN\n",
            "4   Luis  28.0  01/31/2020      M  Barcelona     170  75.0   55000.0\n",
            "5   Luis  28.0  01/31/2020      M  Barcelona     170  75.0   55000.0\n"
          ]
        }
      ]
    },
    {
      "cell_type": "code",
      "source": [
        "df_sin_vacios=df.dropna()\n",
        "print(df_sin_vacios.to_string())"
      ],
      "metadata": {
        "colab": {
          "base_uri": "https://localhost:8080/"
        },
        "id": "9kp9Anj_qW8k",
        "outputId": "071476bc-5d96-4bf9-c24a-c468d2f195a6"
      },
      "execution_count": 114,
      "outputs": [
        {
          "output_type": "stream",
          "name": "stdout",
          "text": [
            "  Nombre  Edad       Fecha Género     Ciudad  Altura  Peso  Ingresos\n",
            "0   Juan  25.0  31/01/2020      M     Madrid     175  70.0   50000.0\n",
            "4   Luis  28.0  01/31/2020      M  Barcelona     170  75.0   55000.0\n"
          ]
        }
      ]
    },
    {
      "cell_type": "code",
      "source": [
        "df.dropna(inplace=True)\n",
        "print(df.to_string())"
      ],
      "metadata": {
        "colab": {
          "base_uri": "https://localhost:8080/"
        },
        "id": "z-MK51VFrKl4",
        "outputId": "97b2d73c-0f49-47e5-94db-53d5a14db1c8"
      },
      "execution_count": 109,
      "outputs": [
        {
          "output_type": "stream",
          "name": "stdout",
          "text": [
            "  Nombre  Edad       Fecha Género     Ciudad  Altura  Peso  Ingresos\n",
            "0   Juan  25.0  31/01/2020      M     Madrid     175  70.0   50000.0\n",
            "4   Luis  28.0  01/31/2020      M  Barcelona     170  75.0   55000.0\n"
          ]
        }
      ]
    },
    {
      "cell_type": "code",
      "source": [
        "dfrelleno=df.fillna('Sin registro')\n",
        "print(dfrelleno.to_string())"
      ],
      "metadata": {
        "colab": {
          "base_uri": "https://localhost:8080/"
        },
        "id": "6c0fh7anrX5f",
        "outputId": "bcde3b87-eb4b-41b5-ba0c-cf775d6f8b94"
      },
      "execution_count": 144,
      "outputs": [
        {
          "output_type": "stream",
          "name": "stdout",
          "text": [
            "  Nombre          Edad         Fecha        Género        Ciudad  Altura          Peso  Ingresos\n",
            "0   Juan          25.0    31/01/2020             M        Madrid     175          70.0   50000.0\n",
            "1  Maria          32.0    31/01/2020             F  Sin registro     163  Sin registro   60000.0\n",
            "2  Pedro  Sin registro  Sin registro  Sin registro        Madrid     180          80.0   40000.0\n",
            "3    Ana          42.0    31/01/2020             F      Valencia     158          60.0       0.0\n",
            "4   Luis          28.0    01/31/2020             M     Barcelona     170          75.0   55000.0\n"
          ]
        }
      ]
    },
    {
      "cell_type": "code",
      "source": [
        "df_cero=df[\"Ingresos\"].fillna(0)\n",
        "print(df_cero)"
      ],
      "metadata": {
        "colab": {
          "base_uri": "https://localhost:8080/"
        },
        "id": "yTaVFyxUry0e",
        "outputId": "cc5d7afa-f943-48b4-88b7-72e6a6756876"
      },
      "execution_count": 143,
      "outputs": [
        {
          "output_type": "stream",
          "name": "stdout",
          "text": [
            "0    50000.0\n",
            "1    60000.0\n",
            "2    40000.0\n",
            "3        0.0\n",
            "4    55000.0\n",
            "Name: Ingresos, dtype: float64\n"
          ]
        }
      ]
    },
    {
      "cell_type": "code",
      "source": [
        "media =df[\"Ingresos\"].mean()\n",
        "print(media)"
      ],
      "metadata": {
        "colab": {
          "base_uri": "https://localhost:8080/"
        },
        "id": "5Fnj7jd0tYMP",
        "outputId": "5d5da4c6-3076-43e9-d7be-37fa748de4df"
      },
      "execution_count": 131,
      "outputs": [
        {
          "output_type": "stream",
          "name": "stdout",
          "text": [
            "41000.0\n"
          ]
        }
      ]
    },
    {
      "cell_type": "code",
      "source": [
        "df_media=df[\"Ingresos\"].fillna(media)\n",
        "print(df_media)"
      ],
      "metadata": {
        "colab": {
          "base_uri": "https://localhost:8080/"
        },
        "id": "VXgQg_YwucR3",
        "outputId": "fd73ecf8-a264-4af4-f1b6-45616e200abf"
      },
      "execution_count": 153,
      "outputs": [
        {
          "output_type": "stream",
          "name": "stdout",
          "text": [
            "0    50000.0\n",
            "1    60000.0\n",
            "2    40000.0\n",
            "3        0.0\n",
            "4    55000.0\n",
            "Name: Ingresos, dtype: float64\n"
          ]
        }
      ]
    },
    {
      "cell_type": "code",
      "source": [
        "mediana = df[\"Ingresos\"].median()\n",
        "print(mediana)"
      ],
      "metadata": {
        "colab": {
          "base_uri": "https://localhost:8080/"
        },
        "id": "I1Qe4sHou0DX",
        "outputId": "35335d1f-f045-4bb4-9020-86ca33d6eb59"
      },
      "execution_count": 147,
      "outputs": [
        {
          "output_type": "stream",
          "name": "stdout",
          "text": [
            "50000.0\n"
          ]
        }
      ]
    },
    {
      "cell_type": "code",
      "source": [
        "df_mediana=df[\"Ingresos\"].fillna(mediana)\n",
        "print(df_mediana)\n"
      ],
      "metadata": {
        "colab": {
          "base_uri": "https://localhost:8080/"
        },
        "id": "PpDhFExivArt",
        "outputId": "ae4d678a-b578-4235-e9bb-c85df673a219"
      },
      "execution_count": 145,
      "outputs": [
        {
          "output_type": "stream",
          "name": "stdout",
          "text": [
            "0    50000.0\n",
            "1    60000.0\n",
            "2    40000.0\n",
            "3        0.0\n",
            "4    55000.0\n",
            "Name: Ingresos, dtype: float64\n"
          ]
        }
      ]
    },
    {
      "cell_type": "code",
      "source": [
        "df.loc[1,'Peso']=70\n",
        "print(df)"
      ],
      "metadata": {
        "colab": {
          "base_uri": "https://localhost:8080/"
        },
        "id": "ahWE3eg1v7K0",
        "outputId": "9bc7085f-d43b-4f32-bdf8-37b8006bae43"
      },
      "execution_count": 154,
      "outputs": [
        {
          "output_type": "stream",
          "name": "stdout",
          "text": [
            "  Nombre  Edad       Fecha Género     Ciudad  Altura  Peso  Ingresos\n",
            "0   Juan  25.0  31/01/2020      M     Madrid     175  70.0   50000.0\n",
            "1  Maria  32.0  31/01/2020      F       None     163  70.0   60000.0\n",
            "2  Pedro   NaN        None   None     Madrid     180  80.0   40000.0\n",
            "3    Ana  42.0  31/01/2020      F   Valencia     158  60.0       0.0\n",
            "4   Luis  28.0  01/31/2020      M  Barcelona     170  75.0   55000.0\n"
          ]
        }
      ]
    },
    {
      "cell_type": "code",
      "source": [
        "df.duplicated()\n",
        "#print(df)"
      ],
      "metadata": {
        "colab": {
          "base_uri": "https://localhost:8080/"
        },
        "id": "crk3PXPCwDh7",
        "outputId": "656e29d4-e2e8-45c4-c43f-728b23891743"
      },
      "execution_count": 176,
      "outputs": [
        {
          "output_type": "execute_result",
          "data": {
            "text/plain": [
              "0    False\n",
              "1    False\n",
              "2    False\n",
              "3    False\n",
              "4    False\n",
              "dtype: bool"
            ]
          },
          "metadata": {},
          "execution_count": 176
        }
      ]
    },
    {
      "cell_type": "code",
      "source": [
        "data = {\n",
        "    'Nombre':['Juan','Maria','Pedro','Ana','Luis','Luis'],\n",
        "    'Edad': [25, 32, None, 42, 28,28],\n",
        "\n",
        "    'Fecha': ['31/01/2020', '31/01/2020', None, '31/01/2020', '01/31/2020', '01/31/2020'],\n",
        "\n",
        "    'Género': ['M', 'F', None, 'F', 'M','M'],\n",
        "\n",
        "    'Ciudad': ['Madrid', None, 'Madrid', 'Valencia', 'Barcelona','Barcelona'],\n",
        "\n",
        "    'Altura': [175, 163, 180, 158, 170,170],\n",
        "\n",
        "    'Peso': [70, None, 80, 60, 75,75],\n",
        "\n",
        "    'Ingresos': [50000, 60000, 40000, None, 55000,55000]\n",
        "}\n",
        "\n",
        "df = pd.DataFrame(data)\n",
        "print(df)"
      ],
      "metadata": {
        "colab": {
          "base_uri": "https://localhost:8080/"
        },
        "id": "L2mtjWCVwlU5",
        "outputId": "293c09ad-d037-4ff6-cd73-24950d7d3356"
      },
      "execution_count": 177,
      "outputs": [
        {
          "output_type": "stream",
          "name": "stdout",
          "text": [
            "  Nombre  Edad       Fecha Género     Ciudad  Altura  Peso  Ingresos\n",
            "0   Juan  25.0  31/01/2020      M     Madrid     175  70.0   50000.0\n",
            "1  Maria  32.0  31/01/2020      F       None     163   NaN   60000.0\n",
            "2  Pedro   NaN        None   None     Madrid     180  80.0   40000.0\n",
            "3    Ana  42.0  31/01/2020      F   Valencia     158  60.0       NaN\n",
            "4   Luis  28.0  01/31/2020      M  Barcelona     170  75.0   55000.0\n",
            "5   Luis  28.0  01/31/2020      M  Barcelona     170  75.0   55000.0\n"
          ]
        }
      ]
    },
    {
      "cell_type": "code",
      "source": [
        "df.drop_duplicates(inplace=True)"
      ],
      "metadata": {
        "id": "yyRCw3_8wOip"
      },
      "execution_count": 175,
      "outputs": []
    },
    {
      "cell_type": "code",
      "source": [
        "data={\n",
        "    'A':[1,2,3,4,5],\n",
        "    'B':[5,4,3,2,1],\n",
        "    'C':[2,4,6,8,10],\n",
        "}\n",
        "df=pd.DataFrame(data)\n",
        "print(df)"
      ],
      "metadata": {
        "colab": {
          "base_uri": "https://localhost:8080/"
        },
        "id": "aZIzRbbsx0LV",
        "outputId": "d5fa1168-7718-442b-8ebe-b98442002be4"
      },
      "execution_count": 181,
      "outputs": [
        {
          "output_type": "stream",
          "name": "stdout",
          "text": [
            "   A  B   C\n",
            "0  1  5   2\n",
            "1  2  4   4\n",
            "2  3  3   6\n",
            "3  4  2   8\n",
            "4  5  1  10\n"
          ]
        }
      ]
    },
    {
      "cell_type": "code",
      "source": [
        "df.corr()"
      ],
      "metadata": {
        "colab": {
          "base_uri": "https://localhost:8080/",
          "height": 143
        },
        "id": "CHaj0Ht0xTH_",
        "outputId": "eaa943e2-42d3-497f-9f07-26556c276752"
      },
      "execution_count": 182,
      "outputs": [
        {
          "output_type": "execute_result",
          "data": {
            "text/plain": [
              "     A    B    C\n",
              "A  1.0 -1.0  1.0\n",
              "B -1.0  1.0 -1.0\n",
              "C  1.0 -1.0  1.0"
            ],
            "text/html": [
              "\n",
              "\n",
              "  <div id=\"df-2e7ca88a-80e4-4fd7-ad91-498b4ae61665\">\n",
              "    <div class=\"colab-df-container\">\n",
              "      <div>\n",
              "<style scoped>\n",
              "    .dataframe tbody tr th:only-of-type {\n",
              "        vertical-align: middle;\n",
              "    }\n",
              "\n",
              "    .dataframe tbody tr th {\n",
              "        vertical-align: top;\n",
              "    }\n",
              "\n",
              "    .dataframe thead th {\n",
              "        text-align: right;\n",
              "    }\n",
              "</style>\n",
              "<table border=\"1\" class=\"dataframe\">\n",
              "  <thead>\n",
              "    <tr style=\"text-align: right;\">\n",
              "      <th></th>\n",
              "      <th>A</th>\n",
              "      <th>B</th>\n",
              "      <th>C</th>\n",
              "    </tr>\n",
              "  </thead>\n",
              "  <tbody>\n",
              "    <tr>\n",
              "      <th>A</th>\n",
              "      <td>1.0</td>\n",
              "      <td>-1.0</td>\n",
              "      <td>1.0</td>\n",
              "    </tr>\n",
              "    <tr>\n",
              "      <th>B</th>\n",
              "      <td>-1.0</td>\n",
              "      <td>1.0</td>\n",
              "      <td>-1.0</td>\n",
              "    </tr>\n",
              "    <tr>\n",
              "      <th>C</th>\n",
              "      <td>1.0</td>\n",
              "      <td>-1.0</td>\n",
              "      <td>1.0</td>\n",
              "    </tr>\n",
              "  </tbody>\n",
              "</table>\n",
              "</div>\n",
              "      <button class=\"colab-df-convert\" onclick=\"convertToInteractive('df-2e7ca88a-80e4-4fd7-ad91-498b4ae61665')\"\n",
              "              title=\"Convert this dataframe to an interactive table.\"\n",
              "              style=\"display:none;\">\n",
              "\n",
              "  <svg xmlns=\"http://www.w3.org/2000/svg\" height=\"24px\"viewBox=\"0 0 24 24\"\n",
              "       width=\"24px\">\n",
              "    <path d=\"M0 0h24v24H0V0z\" fill=\"none\"/>\n",
              "    <path d=\"M18.56 5.44l.94 2.06.94-2.06 2.06-.94-2.06-.94-.94-2.06-.94 2.06-2.06.94zm-11 1L8.5 8.5l.94-2.06 2.06-.94-2.06-.94L8.5 2.5l-.94 2.06-2.06.94zm10 10l.94 2.06.94-2.06 2.06-.94-2.06-.94-.94-2.06-.94 2.06-2.06.94z\"/><path d=\"M17.41 7.96l-1.37-1.37c-.4-.4-.92-.59-1.43-.59-.52 0-1.04.2-1.43.59L10.3 9.45l-7.72 7.72c-.78.78-.78 2.05 0 2.83L4 21.41c.39.39.9.59 1.41.59.51 0 1.02-.2 1.41-.59l7.78-7.78 2.81-2.81c.8-.78.8-2.07 0-2.86zM5.41 20L4 18.59l7.72-7.72 1.47 1.35L5.41 20z\"/>\n",
              "  </svg>\n",
              "      </button>\n",
              "\n",
              "\n",
              "\n",
              "    <div id=\"df-c667e824-a64f-4dac-ad2a-19093078229e\">\n",
              "      <button class=\"colab-df-quickchart\" onclick=\"quickchart('df-c667e824-a64f-4dac-ad2a-19093078229e')\"\n",
              "              title=\"Suggest charts.\"\n",
              "              style=\"display:none;\">\n",
              "\n",
              "<svg xmlns=\"http://www.w3.org/2000/svg\" height=\"24px\"viewBox=\"0 0 24 24\"\n",
              "     width=\"24px\">\n",
              "    <g>\n",
              "        <path d=\"M19 3H5c-1.1 0-2 .9-2 2v14c0 1.1.9 2 2 2h14c1.1 0 2-.9 2-2V5c0-1.1-.9-2-2-2zM9 17H7v-7h2v7zm4 0h-2V7h2v10zm4 0h-2v-4h2v4z\"/>\n",
              "    </g>\n",
              "</svg>\n",
              "      </button>\n",
              "    </div>\n",
              "\n",
              "<style>\n",
              "  .colab-df-quickchart {\n",
              "    background-color: #E8F0FE;\n",
              "    border: none;\n",
              "    border-radius: 50%;\n",
              "    cursor: pointer;\n",
              "    display: none;\n",
              "    fill: #1967D2;\n",
              "    height: 32px;\n",
              "    padding: 0 0 0 0;\n",
              "    width: 32px;\n",
              "  }\n",
              "\n",
              "  .colab-df-quickchart:hover {\n",
              "    background-color: #E2EBFA;\n",
              "    box-shadow: 0px 1px 2px rgba(60, 64, 67, 0.3), 0px 1px 3px 1px rgba(60, 64, 67, 0.15);\n",
              "    fill: #174EA6;\n",
              "  }\n",
              "\n",
              "  [theme=dark] .colab-df-quickchart {\n",
              "    background-color: #3B4455;\n",
              "    fill: #D2E3FC;\n",
              "  }\n",
              "\n",
              "  [theme=dark] .colab-df-quickchart:hover {\n",
              "    background-color: #434B5C;\n",
              "    box-shadow: 0px 1px 3px 1px rgba(0, 0, 0, 0.15);\n",
              "    filter: drop-shadow(0px 1px 2px rgba(0, 0, 0, 0.3));\n",
              "    fill: #FFFFFF;\n",
              "  }\n",
              "</style>\n",
              "\n",
              "    <script>\n",
              "      async function quickchart(key) {\n",
              "        const containerElement = document.querySelector('#' + key);\n",
              "        const charts = await google.colab.kernel.invokeFunction(\n",
              "            'suggestCharts', [key], {});\n",
              "      }\n",
              "    </script>\n",
              "\n",
              "      <script>\n",
              "\n",
              "function displayQuickchartButton(domScope) {\n",
              "  let quickchartButtonEl =\n",
              "    domScope.querySelector('#df-c667e824-a64f-4dac-ad2a-19093078229e button.colab-df-quickchart');\n",
              "  quickchartButtonEl.style.display =\n",
              "    google.colab.kernel.accessAllowed ? 'block' : 'none';\n",
              "}\n",
              "\n",
              "        displayQuickchartButton(document);\n",
              "      </script>\n",
              "      <style>\n",
              "    .colab-df-container {\n",
              "      display:flex;\n",
              "      flex-wrap:wrap;\n",
              "      gap: 12px;\n",
              "    }\n",
              "\n",
              "    .colab-df-convert {\n",
              "      background-color: #E8F0FE;\n",
              "      border: none;\n",
              "      border-radius: 50%;\n",
              "      cursor: pointer;\n",
              "      display: none;\n",
              "      fill: #1967D2;\n",
              "      height: 32px;\n",
              "      padding: 0 0 0 0;\n",
              "      width: 32px;\n",
              "    }\n",
              "\n",
              "    .colab-df-convert:hover {\n",
              "      background-color: #E2EBFA;\n",
              "      box-shadow: 0px 1px 2px rgba(60, 64, 67, 0.3), 0px 1px 3px 1px rgba(60, 64, 67, 0.15);\n",
              "      fill: #174EA6;\n",
              "    }\n",
              "\n",
              "    [theme=dark] .colab-df-convert {\n",
              "      background-color: #3B4455;\n",
              "      fill: #D2E3FC;\n",
              "    }\n",
              "\n",
              "    [theme=dark] .colab-df-convert:hover {\n",
              "      background-color: #434B5C;\n",
              "      box-shadow: 0px 1px 3px 1px rgba(0, 0, 0, 0.15);\n",
              "      filter: drop-shadow(0px 1px 2px rgba(0, 0, 0, 0.3));\n",
              "      fill: #FFFFFF;\n",
              "    }\n",
              "  </style>\n",
              "\n",
              "      <script>\n",
              "        const buttonEl =\n",
              "          document.querySelector('#df-2e7ca88a-80e4-4fd7-ad91-498b4ae61665 button.colab-df-convert');\n",
              "        buttonEl.style.display =\n",
              "          google.colab.kernel.accessAllowed ? 'block' : 'none';\n",
              "\n",
              "        async function convertToInteractive(key) {\n",
              "          const element = document.querySelector('#df-2e7ca88a-80e4-4fd7-ad91-498b4ae61665');\n",
              "          const dataTable =\n",
              "            await google.colab.kernel.invokeFunction('convertToInteractive',\n",
              "                                                     [key], {});\n",
              "          if (!dataTable) return;\n",
              "\n",
              "          const docLinkHtml = 'Like what you see? Visit the ' +\n",
              "            '<a target=\"_blank\" href=https://colab.research.google.com/notebooks/data_table.ipynb>data table notebook</a>'\n",
              "            + ' to learn more about interactive tables.';\n",
              "          element.innerHTML = '';\n",
              "          dataTable['output_type'] = 'display_data';\n",
              "          await google.colab.output.renderOutput(dataTable, element);\n",
              "          const docLink = document.createElement('div');\n",
              "          docLink.innerHTML = docLinkHtml;\n",
              "          element.appendChild(docLink);\n",
              "        }\n",
              "      </script>\n",
              "    </div>\n",
              "  </div>\n"
            ]
          },
          "metadata": {},
          "execution_count": 182
        }
      ]
    },
    {
      "cell_type": "markdown",
      "source": [
        "*Matplotlib*"
      ],
      "metadata": {
        "id": "HCqshx15yhPC"
      }
    },
    {
      "cell_type": "code",
      "source": [],
      "metadata": {
        "id": "MzSxTC45zsQo"
      },
      "execution_count": null,
      "outputs": []
    },
    {
      "cell_type": "code",
      "source": [],
      "metadata": {
        "id": "J3hjc7dMxkX0"
      },
      "execution_count": null,
      "outputs": []
    }
  ]
}