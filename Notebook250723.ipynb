{
  "nbformat": 4,
  "nbformat_minor": 0,
  "metadata": {
    "colab": {
      "provenance": []
    },
    "kernelspec": {
      "name": "python3",
      "display_name": "Python 3"
    },
    "language_info": {
      "name": "python"
    }
  },
  "cells": [
    {
      "cell_type": "markdown",
      "source": [
        "# **Scripts**"
      ],
      "metadata": {
        "id": "Xz1Q9G3Ni-pk"
      }
    },
    {
      "cell_type": "code",
      "execution_count": 65,
      "metadata": {
        "id": "VDwayWB0i4ax"
      },
      "outputs": [],
      "source": [
        "import requests\n",
        "from bs4 import BeautifulSoup"
      ]
    },
    {
      "cell_type": "code",
      "source": [
        "def obtener_contenido_pagina(url):\n",
        "  response = requests.get(url)\n",
        "  return response.text"
      ],
      "metadata": {
        "id": "-cS_PTb-jUxp"
      },
      "execution_count": 66,
      "outputs": []
    },
    {
      "cell_type": "code",
      "source": [
        "def analizar_contenido_pagina(html):\n",
        "  return BeautifulSoup(html, 'html.parser')"
      ],
      "metadata": {
        "id": "eVELA8rljf9i"
      },
      "execution_count": 67,
      "outputs": []
    },
    {
      "cell_type": "code",
      "source": [
        "url = requests.get('https://www.cyberpuerta.mx/Promociones/')\n",
        "\n",
        "soup = BeautifulSoup(url.content, 'html.parser')"
      ],
      "metadata": {
        "id": "cd0zzBJNyab_"
      },
      "execution_count": 68,
      "outputs": []
    },
    {
      "cell_type": "code",
      "source": [
        "titulos = []\n",
        "\n",
        "titulo_items = soup.find_all('div',class_='emproduct_right')"
      ],
      "metadata": {
        "id": "l9QGVRh_0-C3"
      },
      "execution_count": 5,
      "outputs": []
    },
    {
      "cell_type": "code",
      "source": [
        "titulo_items"
      ],
      "metadata": {
        "id": "aewdnmrH1B6w"
      },
      "execution_count": null,
      "outputs": []
    },
    {
      "cell_type": "code",
      "source": [
        " for item in titulo_items:\n",
        "    titulo=item.a.text.strip()\n",
        "    titulos.append(titulo)"
      ],
      "metadata": {
        "id": "kBRqGb8m1cAM"
      },
      "execution_count": 7,
      "outputs": []
    },
    {
      "cell_type": "code",
      "source": [
        "titulos"
      ],
      "metadata": {
        "id": "f_nQXTE91dLf"
      },
      "execution_count": null,
      "outputs": []
    },
    {
      "cell_type": "code",
      "source": [
        "precios_originales = []\n",
        "precio_original_items = soup.find_all('span', class_='oldPrice')\n"
      ],
      "metadata": {
        "id": "KDKVe6MR4VAr"
      },
      "execution_count": 10,
      "outputs": []
    },
    {
      "cell_type": "code",
      "source": [
        "precio_original_items"
      ],
      "metadata": {
        "id": "y9rhobkA4bs0"
      },
      "execution_count": null,
      "outputs": []
    },
    {
      "cell_type": "code",
      "source": [
        "for item in precio_original_items:\n",
        "    precio_original = item.text.strip()\n",
        "    precios_originales.append(precio_original)"
      ],
      "metadata": {
        "id": "DC3qe3DZ4dok"
      },
      "execution_count": 13,
      "outputs": []
    },
    {
      "cell_type": "code",
      "source": [
        "precios_originales"
      ],
      "metadata": {
        "id": "wHooBaTA4gB3"
      },
      "execution_count": null,
      "outputs": []
    },
    {
      "cell_type": "code",
      "source": [
        "precios_descuento = []\n",
        "precio_descuento_items = soup.find_all('div', class_='emproduct_right_price_left')\n"
      ],
      "metadata": {
        "id": "dDUhcxBs4n1z"
      },
      "execution_count": 15,
      "outputs": []
    },
    {
      "cell_type": "code",
      "source": [
        "precio_descuento_items"
      ],
      "metadata": {
        "id": "rMetWUO04svd"
      },
      "execution_count": null,
      "outputs": []
    },
    {
      "cell_type": "code",
      "source": [
        "for item in precio_descuento_items:\n",
        "    precio_descuento = item.label.text.strip()\n",
        "    precios_descuento.append(precio_descuento)"
      ],
      "metadata": {
        "id": "vBNcldTu4ulD"
      },
      "execution_count": 18,
      "outputs": []
    },
    {
      "cell_type": "code",
      "source": [
        "precios_descuento"
      ],
      "metadata": {
        "id": "yBgqgE8P4vw0"
      },
      "execution_count": null,
      "outputs": []
    },
    {
      "cell_type": "code",
      "source": [
        "skus = []\n",
        "sku_items = soup.find_all('div', class_='emproduct_right_artnum')\n",
        "\n"
      ],
      "metadata": {
        "id": "8VhbSj1U8d_q"
      },
      "execution_count": 20,
      "outputs": []
    },
    {
      "cell_type": "code",
      "source": [
        "sku_items"
      ],
      "metadata": {
        "id": "ska7SpFF8j9n"
      },
      "execution_count": null,
      "outputs": []
    },
    {
      "cell_type": "code",
      "source": [
        "for item in sku_items:\n",
        "    sku = item.text.strip()\n",
        "    skus.append(sku.lstrip('SKU: '))"
      ],
      "metadata": {
        "id": "J9c2LWFM8mAI"
      },
      "execution_count": 23,
      "outputs": []
    },
    {
      "cell_type": "code",
      "source": [
        "skus"
      ],
      "metadata": {
        "id": "cQr2apxe8n3I"
      },
      "execution_count": null,
      "outputs": []
    },
    {
      "cell_type": "code",
      "source": [
        "precios_envio = []\n",
        "precio_envio_items = soup.find_all('span', class_={'deliveryvalue','deliverytextfree'})\n",
        "\n"
      ],
      "metadata": {
        "id": "IjqJBHpt8teE"
      },
      "execution_count": 25,
      "outputs": []
    },
    {
      "cell_type": "code",
      "source": [
        "precio_envio_items"
      ],
      "metadata": {
        "id": "Fz87rhuA8yIe"
      },
      "execution_count": null,
      "outputs": []
    },
    {
      "cell_type": "code",
      "source": [
        "for item in precio_envio_items:\n",
        "    precio_envio = item.text\n",
        "    precios_envio.append(precio_envio)"
      ],
      "metadata": {
        "id": "KpMYA6Wh8130"
      },
      "execution_count": 27,
      "outputs": []
    },
    {
      "cell_type": "code",
      "source": [
        "precios_envio"
      ],
      "metadata": {
        "id": "LKiUvFpl83Ym"
      },
      "execution_count": null,
      "outputs": []
    },
    {
      "cell_type": "code",
      "source": [
        "stocks = []\n",
        "stock_items = soup.find_all('div', class_='emstock')\n"
      ],
      "metadata": {
        "id": "bZX4h1hP8_4V"
      },
      "execution_count": 29,
      "outputs": []
    },
    {
      "cell_type": "code",
      "source": [
        "stock_items"
      ],
      "metadata": {
        "id": "XmewyL8X9Dxy"
      },
      "execution_count": null,
      "outputs": []
    },
    {
      "cell_type": "code",
      "source": [
        "for item in stock_items:\n",
        "    stock = item.text.split()\n",
        "    stocks.append(stock[1])"
      ],
      "metadata": {
        "id": "2AYt-YSu9GLa"
      },
      "execution_count": 31,
      "outputs": []
    },
    {
      "cell_type": "code",
      "source": [
        "stocks"
      ],
      "metadata": {
        "id": "2ZsW-NUH9HV2"
      },
      "execution_count": null,
      "outputs": []
    },
    {
      "cell_type": "code",
      "source": [
        "data = []\n",
        "min_length = min(len(titulos), len(skus), len(precios_originales), len(precios_descuento), len(precios_envio), len(stocks))\n",
        "\n",
        "for i in range(min_length):\n",
        "    data.append({\n",
        "        \"Título: \": titulos[i] if i < len(titulos) else None,\n",
        "        \"SKU: \": skus[i] if i < len(skus) else None,\n",
        "        \"Precio Original: \": precios_originales[i] if i < len(precios_originales) else None,\n",
        "        \"Precio Descuento: \": precios_descuento[i] if i < len(precios_descuento) else None,\n",
        "        \"Precio Envio: \": precios_envio[i] if i < len(precios_envio) else None,\n",
        "        \"Stock: \": stocks[i] if i < len(stocks) else None\n",
        "    })"
      ],
      "metadata": {
        "id": "B-vesPMR9N8x"
      },
      "execution_count": 39,
      "outputs": []
    },
    {
      "cell_type": "code",
      "source": [
        "data"
      ],
      "metadata": {
        "id": "AntNwZAn9RbN"
      },
      "execution_count": null,
      "outputs": []
    },
    {
      "cell_type": "code",
      "source": [
        "data = []\n",
        "\n",
        "def procesar_pagina(soup):\n",
        "  titulos = []\n",
        "  precios_originales = []\n",
        "  precios_descuento = []\n",
        "  precios_envio = []\n",
        "  skus = []\n",
        "  stocks = []\n",
        "\n",
        "  titulo_items = soup.find_all('div',class_='emproduct_right')\n",
        "  for item in titulo_items:\n",
        "    titulo=item.a.text.strip()\n",
        "    titulos.append(titulo)\n",
        "\n",
        "  precio_original_items = soup.find_all('span', class_='oldPrice')\n",
        "\n",
        "  for item in precio_original_items:\n",
        "    precio_original = item.text.strip()\n",
        "    precios_originales.append(precio_original)\n",
        "\n",
        "  precio_descuento_items = soup.find_all('div', class_='emproduct_right_price_left')\n",
        "\n",
        "  for item in precio_descuento_items:\n",
        "    precio_descuento = item.label.text.strip()\n",
        "    precios_descuento.append(precio_descuento)\n",
        "\n",
        "  sku_items = soup.find_all('div', class_='emproduct_right_artnum')\n",
        "\n",
        "  for item in sku_items:\n",
        "    sku = item.text.strip()\n",
        "    skus.append(sku.lstrip('SKU: '))\n",
        "\n",
        "  precio_envio_items = soup.find_all('span', class_={'deliveryvalue','deliverytextfree'})\n",
        "\n",
        "  for item in precio_envio_items:\n",
        "    precio_envio = item.text\n",
        "    precios_envio.append(precio_envio)\n",
        "\n",
        "  stock_items = soup.find_all('div', class_='emstock')\n",
        "\n",
        "  for item in stock_items:\n",
        "    stock = item.text.split()\n",
        "    stocks.append(stock[1])\n",
        "\n",
        "  min_length = min(len(titulos), len(skus), len(precios_originales), len(precios_descuento), len(precios_envio), len(stocks))\n",
        "\n",
        "  for i in range(min_length):\n",
        "    data.append({\n",
        "        \"Título: \": titulos[i] if i < len(titulos) else None,\n",
        "        \"SKU: \": skus[i] if i < len(skus) else None,\n",
        "        \"Precio Original: \": precios_originales[i] if i < len(precios_originales) else None,\n",
        "        \"Precio Descuento: \": precios_descuento[i] if i < len(precios_descuento) else None,\n",
        "        \"Precio Envio: \": precios_envio[i] if i < len(precios_envio) else None,\n",
        "        \"Stock: \": stocks[i] if i < len(stocks) else None\n",
        "    })\n",
        "\n",
        "\n",
        "\n"
      ],
      "metadata": {
        "id": "T5Zf6k7dF6kE"
      },
      "execution_count": 81,
      "outputs": []
    },
    {
      "cell_type": "code",
      "source": [
        "def manejar_paginacion(url_base, num_paginas):\n",
        "    for i in range(1, num_paginas + 1):\n",
        "        url = url_base+ str(i) + \"/\"  # Actualiza la URL base con el número de página actual\n",
        "        contenido_pagina = obtener_contenido_pagina(url)\n",
        "        soup = analizar_contenido_pagina(contenido_pagina)\n",
        "        procesar_pagina(soup)"
      ],
      "metadata": {
        "id": "04YFmBqH-FaH"
      },
      "execution_count": 82,
      "outputs": []
    },
    {
      "cell_type": "code",
      "source": [
        "url_base = 'https://www.cyberpuerta.mx/Promociones/'\n",
        "num_paginas = 1\n",
        "manejar_paginacion(url_base, num_paginas)"
      ],
      "metadata": {
        "id": "AfxsjhWg9u0v"
      },
      "execution_count": 93,
      "outputs": []
    },
    {
      "cell_type": "code",
      "source": [
        "data"
      ],
      "metadata": {
        "id": "zzB4ahVvy_U0"
      },
      "execution_count": null,
      "outputs": []
    },
    {
      "cell_type": "code",
      "source": [
        "len(data)"
      ],
      "metadata": {
        "colab": {
          "base_uri": "https://localhost:8080/"
        },
        "id": "Tk_GgYUp5S_e",
        "outputId": "0ff747bd-045c-4fb3-ee87-05dbde245e07"
      },
      "execution_count": 95,
      "outputs": [
        {
          "output_type": "execute_result",
          "data": {
            "text/plain": [
              "64"
            ]
          },
          "metadata": {},
          "execution_count": 95
        }
      ]
    },
    {
      "cell_type": "code",
      "source": [
        "import pandas as pd\n",
        "df = pd.DataFrame(data)\n"
      ],
      "metadata": {
        "id": "9f7rU7BizUJe"
      },
      "execution_count": 98,
      "outputs": []
    },
    {
      "cell_type": "code",
      "source": [
        "df"
      ],
      "metadata": {
        "colab": {
          "base_uri": "https://localhost:8080/",
          "height": 423
        },
        "id": "yAimFjlT6D5v",
        "outputId": "36af5eae-7776-4899-e44a-dc5a05b8d055"
      },
      "execution_count": 100,
      "outputs": [
        {
          "output_type": "execute_result",
          "data": {
            "text/plain": [
              "                                             Título:             SKU:   \\\n",
              "0   Mouse Gamer Ocelot Gaming Óptico OGMM02, Alámb...           OGMM02   \n",
              "1   Mouse Gamer Ocelot Gaming Óptico OGMM01, Alámb...           OGMM01   \n",
              "2   Mouse Gamer Ocelot Gaming Óptico OGEM02, Alámb...           OGEM02   \n",
              "3   Mouse Gamer Ocelot Gaming Óptico OGMM03, Alámb...           OGMM03   \n",
              "4   Mouse Gamer Ocelot Gaming Óptico OGEM01, Alámb...           OGEM01   \n",
              "..                                                ...              ...   \n",
              "59  Ocelot Gaming Audífonos Gamer OGMH02, Alámbric...           OGMH02   \n",
              "60  Cinta Zebra Ribbon Resin 5095, 4.33'' x 110mm,...     05095BK11045   \n",
              "61  Router ASUS Gigabit Ethernet de Banda Dual RT-...  90IG0300-BA1000   \n",
              "62    Panduit Módulo Ciego Gris, Paquete de 10 Piezas          CMBIG-X   \n",
              "63  Memoria RAM HPE DDR4, 2933MHz, 32GB, CL21, Reg...       P00924-B21   \n",
              "\n",
              "   Precio Original:  Precio Descuento:  Precio Envio:  Stock:   \n",
              "0            $209.00             $85.00         $99.00       3  \n",
              "1            $249.00             $89.00         $99.00      85  \n",
              "2            $249.00             $87.00         $99.00     343  \n",
              "3            $219.00             $94.00         $99.00     178  \n",
              "4            $249.00            $103.00         $99.00      92  \n",
              "..               ...                ...            ...     ...  \n",
              "59           $387.00            $214.00         $99.00     646  \n",
              "60         $6,999.00          $1,179.00         $99.00      52  \n",
              "61         $1,913.00          $1,099.00         $99.00      70  \n",
              "62           $163.00             $21.00         $99.00       3  \n",
              "63        $18,934.00          $8,469.00         $99.00       6  \n",
              "\n",
              "[64 rows x 6 columns]"
            ],
            "text/html": [
              "\n",
              "\n",
              "  <div id=\"df-2df39c59-e768-41ba-b3c4-1b343338e5bd\">\n",
              "    <div class=\"colab-df-container\">\n",
              "      <div>\n",
              "<style scoped>\n",
              "    .dataframe tbody tr th:only-of-type {\n",
              "        vertical-align: middle;\n",
              "    }\n",
              "\n",
              "    .dataframe tbody tr th {\n",
              "        vertical-align: top;\n",
              "    }\n",
              "\n",
              "    .dataframe thead th {\n",
              "        text-align: right;\n",
              "    }\n",
              "</style>\n",
              "<table border=\"1\" class=\"dataframe\">\n",
              "  <thead>\n",
              "    <tr style=\"text-align: right;\">\n",
              "      <th></th>\n",
              "      <th>Título:</th>\n",
              "      <th>SKU:</th>\n",
              "      <th>Precio Original:</th>\n",
              "      <th>Precio Descuento:</th>\n",
              "      <th>Precio Envio:</th>\n",
              "      <th>Stock:</th>\n",
              "    </tr>\n",
              "  </thead>\n",
              "  <tbody>\n",
              "    <tr>\n",
              "      <th>0</th>\n",
              "      <td>Mouse Gamer Ocelot Gaming Óptico OGMM02, Alámb...</td>\n",
              "      <td>OGMM02</td>\n",
              "      <td>$209.00</td>\n",
              "      <td>$85.00</td>\n",
              "      <td>$99.00</td>\n",
              "      <td>3</td>\n",
              "    </tr>\n",
              "    <tr>\n",
              "      <th>1</th>\n",
              "      <td>Mouse Gamer Ocelot Gaming Óptico OGMM01, Alámb...</td>\n",
              "      <td>OGMM01</td>\n",
              "      <td>$249.00</td>\n",
              "      <td>$89.00</td>\n",
              "      <td>$99.00</td>\n",
              "      <td>85</td>\n",
              "    </tr>\n",
              "    <tr>\n",
              "      <th>2</th>\n",
              "      <td>Mouse Gamer Ocelot Gaming Óptico OGEM02, Alámb...</td>\n",
              "      <td>OGEM02</td>\n",
              "      <td>$249.00</td>\n",
              "      <td>$87.00</td>\n",
              "      <td>$99.00</td>\n",
              "      <td>343</td>\n",
              "    </tr>\n",
              "    <tr>\n",
              "      <th>3</th>\n",
              "      <td>Mouse Gamer Ocelot Gaming Óptico OGMM03, Alámb...</td>\n",
              "      <td>OGMM03</td>\n",
              "      <td>$219.00</td>\n",
              "      <td>$94.00</td>\n",
              "      <td>$99.00</td>\n",
              "      <td>178</td>\n",
              "    </tr>\n",
              "    <tr>\n",
              "      <th>4</th>\n",
              "      <td>Mouse Gamer Ocelot Gaming Óptico OGEM01, Alámb...</td>\n",
              "      <td>OGEM01</td>\n",
              "      <td>$249.00</td>\n",
              "      <td>$103.00</td>\n",
              "      <td>$99.00</td>\n",
              "      <td>92</td>\n",
              "    </tr>\n",
              "    <tr>\n",
              "      <th>...</th>\n",
              "      <td>...</td>\n",
              "      <td>...</td>\n",
              "      <td>...</td>\n",
              "      <td>...</td>\n",
              "      <td>...</td>\n",
              "      <td>...</td>\n",
              "    </tr>\n",
              "    <tr>\n",
              "      <th>59</th>\n",
              "      <td>Ocelot Gaming Audífonos Gamer OGMH02, Alámbric...</td>\n",
              "      <td>OGMH02</td>\n",
              "      <td>$387.00</td>\n",
              "      <td>$214.00</td>\n",
              "      <td>$99.00</td>\n",
              "      <td>646</td>\n",
              "    </tr>\n",
              "    <tr>\n",
              "      <th>60</th>\n",
              "      <td>Cinta Zebra Ribbon Resin 5095, 4.33'' x 110mm,...</td>\n",
              "      <td>05095BK11045</td>\n",
              "      <td>$6,999.00</td>\n",
              "      <td>$1,179.00</td>\n",
              "      <td>$99.00</td>\n",
              "      <td>52</td>\n",
              "    </tr>\n",
              "    <tr>\n",
              "      <th>61</th>\n",
              "      <td>Router ASUS Gigabit Ethernet de Banda Dual RT-...</td>\n",
              "      <td>90IG0300-BA1000</td>\n",
              "      <td>$1,913.00</td>\n",
              "      <td>$1,099.00</td>\n",
              "      <td>$99.00</td>\n",
              "      <td>70</td>\n",
              "    </tr>\n",
              "    <tr>\n",
              "      <th>62</th>\n",
              "      <td>Panduit Módulo Ciego Gris, Paquete de 10 Piezas</td>\n",
              "      <td>CMBIG-X</td>\n",
              "      <td>$163.00</td>\n",
              "      <td>$21.00</td>\n",
              "      <td>$99.00</td>\n",
              "      <td>3</td>\n",
              "    </tr>\n",
              "    <tr>\n",
              "      <th>63</th>\n",
              "      <td>Memoria RAM HPE DDR4, 2933MHz, 32GB, CL21, Reg...</td>\n",
              "      <td>P00924-B21</td>\n",
              "      <td>$18,934.00</td>\n",
              "      <td>$8,469.00</td>\n",
              "      <td>$99.00</td>\n",
              "      <td>6</td>\n",
              "    </tr>\n",
              "  </tbody>\n",
              "</table>\n",
              "<p>64 rows × 6 columns</p>\n",
              "</div>\n",
              "      <button class=\"colab-df-convert\" onclick=\"convertToInteractive('df-2df39c59-e768-41ba-b3c4-1b343338e5bd')\"\n",
              "              title=\"Convert this dataframe to an interactive table.\"\n",
              "              style=\"display:none;\">\n",
              "\n",
              "  <svg xmlns=\"http://www.w3.org/2000/svg\" height=\"24px\"viewBox=\"0 0 24 24\"\n",
              "       width=\"24px\">\n",
              "    <path d=\"M0 0h24v24H0V0z\" fill=\"none\"/>\n",
              "    <path d=\"M18.56 5.44l.94 2.06.94-2.06 2.06-.94-2.06-.94-.94-2.06-.94 2.06-2.06.94zm-11 1L8.5 8.5l.94-2.06 2.06-.94-2.06-.94L8.5 2.5l-.94 2.06-2.06.94zm10 10l.94 2.06.94-2.06 2.06-.94-2.06-.94-.94-2.06-.94 2.06-2.06.94z\"/><path d=\"M17.41 7.96l-1.37-1.37c-.4-.4-.92-.59-1.43-.59-.52 0-1.04.2-1.43.59L10.3 9.45l-7.72 7.72c-.78.78-.78 2.05 0 2.83L4 21.41c.39.39.9.59 1.41.59.51 0 1.02-.2 1.41-.59l7.78-7.78 2.81-2.81c.8-.78.8-2.07 0-2.86zM5.41 20L4 18.59l7.72-7.72 1.47 1.35L5.41 20z\"/>\n",
              "  </svg>\n",
              "      </button>\n",
              "\n",
              "\n",
              "\n",
              "    <div id=\"df-cb167ed8-719d-477c-be56-e9fd1b4cbbb1\">\n",
              "      <button class=\"colab-df-quickchart\" onclick=\"quickchart('df-cb167ed8-719d-477c-be56-e9fd1b4cbbb1')\"\n",
              "              title=\"Suggest charts.\"\n",
              "              style=\"display:none;\">\n",
              "\n",
              "<svg xmlns=\"http://www.w3.org/2000/svg\" height=\"24px\"viewBox=\"0 0 24 24\"\n",
              "     width=\"24px\">\n",
              "    <g>\n",
              "        <path d=\"M19 3H5c-1.1 0-2 .9-2 2v14c0 1.1.9 2 2 2h14c1.1 0 2-.9 2-2V5c0-1.1-.9-2-2-2zM9 17H7v-7h2v7zm4 0h-2V7h2v10zm4 0h-2v-4h2v4z\"/>\n",
              "    </g>\n",
              "</svg>\n",
              "      </button>\n",
              "    </div>\n",
              "\n",
              "<style>\n",
              "  .colab-df-quickchart {\n",
              "    background-color: #E8F0FE;\n",
              "    border: none;\n",
              "    border-radius: 50%;\n",
              "    cursor: pointer;\n",
              "    display: none;\n",
              "    fill: #1967D2;\n",
              "    height: 32px;\n",
              "    padding: 0 0 0 0;\n",
              "    width: 32px;\n",
              "  }\n",
              "\n",
              "  .colab-df-quickchart:hover {\n",
              "    background-color: #E2EBFA;\n",
              "    box-shadow: 0px 1px 2px rgba(60, 64, 67, 0.3), 0px 1px 3px 1px rgba(60, 64, 67, 0.15);\n",
              "    fill: #174EA6;\n",
              "  }\n",
              "\n",
              "  [theme=dark] .colab-df-quickchart {\n",
              "    background-color: #3B4455;\n",
              "    fill: #D2E3FC;\n",
              "  }\n",
              "\n",
              "  [theme=dark] .colab-df-quickchart:hover {\n",
              "    background-color: #434B5C;\n",
              "    box-shadow: 0px 1px 3px 1px rgba(0, 0, 0, 0.15);\n",
              "    filter: drop-shadow(0px 1px 2px rgba(0, 0, 0, 0.3));\n",
              "    fill: #FFFFFF;\n",
              "  }\n",
              "</style>\n",
              "\n",
              "    <script>\n",
              "      async function quickchart(key) {\n",
              "        const containerElement = document.querySelector('#' + key);\n",
              "        const charts = await google.colab.kernel.invokeFunction(\n",
              "            'suggestCharts', [key], {});\n",
              "      }\n",
              "    </script>\n",
              "\n",
              "      <script>\n",
              "\n",
              "function displayQuickchartButton(domScope) {\n",
              "  let quickchartButtonEl =\n",
              "    domScope.querySelector('#df-cb167ed8-719d-477c-be56-e9fd1b4cbbb1 button.colab-df-quickchart');\n",
              "  quickchartButtonEl.style.display =\n",
              "    google.colab.kernel.accessAllowed ? 'block' : 'none';\n",
              "}\n",
              "\n",
              "        displayQuickchartButton(document);\n",
              "      </script>\n",
              "      <style>\n",
              "    .colab-df-container {\n",
              "      display:flex;\n",
              "      flex-wrap:wrap;\n",
              "      gap: 12px;\n",
              "    }\n",
              "\n",
              "    .colab-df-convert {\n",
              "      background-color: #E8F0FE;\n",
              "      border: none;\n",
              "      border-radius: 50%;\n",
              "      cursor: pointer;\n",
              "      display: none;\n",
              "      fill: #1967D2;\n",
              "      height: 32px;\n",
              "      padding: 0 0 0 0;\n",
              "      width: 32px;\n",
              "    }\n",
              "\n",
              "    .colab-df-convert:hover {\n",
              "      background-color: #E2EBFA;\n",
              "      box-shadow: 0px 1px 2px rgba(60, 64, 67, 0.3), 0px 1px 3px 1px rgba(60, 64, 67, 0.15);\n",
              "      fill: #174EA6;\n",
              "    }\n",
              "\n",
              "    [theme=dark] .colab-df-convert {\n",
              "      background-color: #3B4455;\n",
              "      fill: #D2E3FC;\n",
              "    }\n",
              "\n",
              "    [theme=dark] .colab-df-convert:hover {\n",
              "      background-color: #434B5C;\n",
              "      box-shadow: 0px 1px 3px 1px rgba(0, 0, 0, 0.15);\n",
              "      filter: drop-shadow(0px 1px 2px rgba(0, 0, 0, 0.3));\n",
              "      fill: #FFFFFF;\n",
              "    }\n",
              "  </style>\n",
              "\n",
              "      <script>\n",
              "        const buttonEl =\n",
              "          document.querySelector('#df-2df39c59-e768-41ba-b3c4-1b343338e5bd button.colab-df-convert');\n",
              "        buttonEl.style.display =\n",
              "          google.colab.kernel.accessAllowed ? 'block' : 'none';\n",
              "\n",
              "        async function convertToInteractive(key) {\n",
              "          const element = document.querySelector('#df-2df39c59-e768-41ba-b3c4-1b343338e5bd');\n",
              "          const dataTable =\n",
              "            await google.colab.kernel.invokeFunction('convertToInteractive',\n",
              "                                                     [key], {});\n",
              "          if (!dataTable) return;\n",
              "\n",
              "          const docLinkHtml = 'Like what you see? Visit the ' +\n",
              "            '<a target=\"_blank\" href=https://colab.research.google.com/notebooks/data_table.ipynb>data table notebook</a>'\n",
              "            + ' to learn more about interactive tables.';\n",
              "          element.innerHTML = '';\n",
              "          dataTable['output_type'] = 'display_data';\n",
              "          await google.colab.output.renderOutput(dataTable, element);\n",
              "          const docLink = document.createElement('div');\n",
              "          docLink.innerHTML = docLinkHtml;\n",
              "          element.appendChild(docLink);\n",
              "        }\n",
              "      </script>\n",
              "    </div>\n",
              "  </div>\n"
            ]
          },
          "metadata": {},
          "execution_count": 100
        }
      ]
    },
    {
      "cell_type": "code",
      "source": [
        "import datetime\n",
        "fecha_actual = datetime.datetime.now().strftime(\"%d-%m-%y\")\n",
        "\n",
        "print(fecha_actual)\n",
        "df.to_csv(f\"../dataset\")"
      ],
      "metadata": {
        "colab": {
          "base_uri": "https://localhost:8080/"
        },
        "id": "_SPA9fJqtxxh",
        "outputId": "2cb83847-9704-49c5-c96a-93775afa539e"
      },
      "execution_count": 112,
      "outputs": [
        {
          "output_type": "stream",
          "name": "stdout",
          "text": [
            "27-07-23\n"
          ]
        }
      ]
    },
    {
      "cell_type": "code",
      "source": [
        "import datetime\n",
        "fecha_actual = datetime.datetime.now().strftime(\"%d-%m-%y\")\n",
        "\n",
        "df.to_csv(f\"../Cyberpuerta-WebScrap-{fecha_actual}.csv\", index=False)"
      ],
      "metadata": {
        "id": "hB6dYo4j8otX"
      },
      "execution_count": 113,
      "outputs": []
    }
  ]
}