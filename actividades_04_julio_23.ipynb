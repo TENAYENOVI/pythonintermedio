{
  "nbformat": 4,
  "nbformat_minor": 0,
  "metadata": {
    "colab": {
      "provenance": []
    },
    "kernelspec": {
      "name": "python3",
      "display_name": "Python 3"
    },
    "language_info": {
      "name": "python"
    }
  },
  "cells": [
    {
      "cell_type": "markdown",
      "source": [
        "# ***Módulos y Paquetes***\n"
      ],
      "metadata": {
        "id": "d26Yt_ByP-3L"
      }
    },
    {
      "cell_type": "code",
      "execution_count": 10,
      "metadata": {
        "colab": {
          "base_uri": "https://localhost:8080/"
        },
        "id": "iiOipxoQ1eo2",
        "outputId": "3d4cfd56-8576-4dcd-d680-35bede6b3b65"
      },
      "outputs": [
        {
          "output_type": "stream",
          "name": "stdout",
          "text": [
            "2.8284271247461903\n"
          ]
        }
      ],
      "source": [
        "import math\n",
        "\n",
        "resultado = math.sqrt(8)\n",
        "print(resultado)"
      ]
    },
    {
      "cell_type": "code",
      "source": [
        "import math\n",
        "\n",
        "def calcular_area_circulo(radio):\n",
        "  area=math.pi * (radio **2)\n",
        "  return area\n",
        "\n",
        "radio_circulo = 5\n",
        "area_circulo = calcular_area_circulo(radio_circulo)\n",
        "print(\"El area es: \", area_circulo)"
      ],
      "metadata": {
        "colab": {
          "base_uri": "https://localhost:8080/"
        },
        "id": "silLzvJGNN93",
        "outputId": "79a3b40d-68e8-4759-a822-50c97bd6b572"
      },
      "execution_count": 4,
      "outputs": [
        {
          "output_type": "stream",
          "name": "stdout",
          "text": [
            "El area es:  78.53981633974483\n"
          ]
        }
      ]
    },
    {
      "cell_type": "code",
      "source": [
        "import random\n",
        "resultado = random.randint(1,6)\n",
        "print(resultado)"
      ],
      "metadata": {
        "colab": {
          "base_uri": "https://localhost:8080/"
        },
        "id": "6W2ZRJYJNxLO",
        "outputId": "047fb955-68b1-4c48-ed27-c60d1778b273"
      },
      "execution_count": 9,
      "outputs": [
        {
          "output_type": "stream",
          "name": "stdout",
          "text": [
            "1\n"
          ]
        }
      ]
    },
    {
      "cell_type": "code",
      "source": [
        "!pip install numpy"
      ],
      "metadata": {
        "colab": {
          "base_uri": "https://localhost:8080/"
        },
        "id": "SGx_WcCxOGFr",
        "outputId": "12f67252-ef6d-437f-e160-2791a3f18184"
      },
      "execution_count": 11,
      "outputs": [
        {
          "output_type": "stream",
          "name": "stdout",
          "text": [
            "Requirement already satisfied: numpy in /usr/local/lib/python3.10/dist-packages (1.22.4)\n"
          ]
        }
      ]
    },
    {
      "cell_type": "code",
      "source": [
        "import numpy as np\n",
        "arreglo = np.array([1,2,3,4,5])\n",
        "print(arreglo)\n"
      ],
      "metadata": {
        "colab": {
          "base_uri": "https://localhost:8080/"
        },
        "id": "7sFxb4ojOO2W",
        "outputId": "e9dec887-280e-442a-9b2e-225f85ef10ff"
      },
      "execution_count": 12,
      "outputs": [
        {
          "output_type": "stream",
          "name": "stdout",
          "text": [
            "[1 2 3 4 5]\n"
          ]
        }
      ]
    },
    {
      "cell_type": "markdown",
      "source": [
        "# ***Manipulación de Archivos***"
      ],
      "metadata": {
        "id": "MY8TrAauQStA"
      }
    },
    {
      "cell_type": "code",
      "source": [
        "archivo = open(\"texto.txt\",\"r\")\n",
        "contenido = archivo.read()\n",
        "print(contenido)"
      ],
      "metadata": {
        "colab": {
          "base_uri": "https://localhost:8080/"
        },
        "id": "NdsX_7S6QbRk",
        "outputId": "b7bdfe9d-9f3e-417c-91ce-2240312c5a0c"
      },
      "execution_count": 14,
      "outputs": [
        {
          "output_type": "stream",
          "name": "stdout",
          "text": [
            "Lorem ipsum dolor sit amet, consectetur adipiscing elit. Nunc malesuada risus vel metus scelerisque, sit amet pharetra mi eleifend. Donec at urna sed ipsum feugiat venenatis vitae non tortor. Sed consequat, mi id consequat bibendum, odio elit lacinia risus, a mollis mauris nisl sed velit. Pellentesque habitant morbi tristique senectus et netus et malesuada fames ac turpis egestas. Sed ut massa id libero accumsan dignissim. Vestibulum rhoncus, velit id efficitur sagittis, lectus arcu tincidunt nisi, at dapibus orci sem eu est. Mauris luctus, leo eget suscipit bibendum, metus ex congue risus, id fringilla mauris nulla ac nulla. Integer tempor lobortis enim, at pharetra justo pellentesque a.\n"
          ]
        }
      ]
    },
    {
      "cell_type": "code",
      "source": [
        "archivo = open(\"nuevo.txt\",\"w\")\n",
        "archivo.write(\"Programa de Desarrollo de Talentos 2023\")\n",
        "archivo.close()"
      ],
      "metadata": {
        "id": "nw4i3KdnTWTy"
      },
      "execution_count": 20,
      "outputs": []
    },
    {
      "cell_type": "code",
      "source": [
        "with open(\"nuevo.txt\",\"r\") as archivo:\n",
        "  contenido = archivo.read()\n",
        "\n",
        "print(contenido)"
      ],
      "metadata": {
        "colab": {
          "base_uri": "https://localhost:8080/"
        },
        "id": "93GvVHexTqHZ",
        "outputId": "ef970dd3-fd89-4aa7-e770-3dca42a67d89"
      },
      "execution_count": 22,
      "outputs": [
        {
          "output_type": "stream",
          "name": "stdout",
          "text": [
            "Programa de Desarrollo de Talentos 2023\n"
          ]
        }
      ]
    },
    {
      "cell_type": "markdown",
      "source": [
        "# ***Lista, Tupla y Diccionarios***"
      ],
      "metadata": {
        "id": "q2Zl05iFXrUv"
      }
    },
    {
      "cell_type": "code",
      "source": [
        "num = [16,52]\n",
        "print(num)\n",
        "#num[0] = \"Python\"\n",
        "print(num)\n",
        "num.append(5)\n",
        "print(num)"
      ],
      "metadata": {
        "colab": {
          "base_uri": "https://localhost:8080/"
        },
        "id": "gYBvJQnyX0Oo",
        "outputId": "7fd0fc4a-23a4-4b8c-cc15-5788904eac05"
      },
      "execution_count": 42,
      "outputs": [
        {
          "output_type": "stream",
          "name": "stdout",
          "text": [
            "[16, 52]\n",
            "[16, 52]\n",
            "[16, 52, 5]\n"
          ]
        }
      ]
    },
    {
      "cell_type": "code",
      "source": [
        "from re import T\n",
        "num2 =[9,4]\n",
        "num.extend(num2)\n",
        "print(num)"
      ],
      "metadata": {
        "colab": {
          "base_uri": "https://localhost:8080/"
        },
        "id": "excZNFfId-Cs",
        "outputId": "700bb1a5-58df-4124-f2f1-fd9fcba6c8be"
      },
      "execution_count": 66,
      "outputs": [
        {
          "output_type": "stream",
          "name": "stdout",
          "text": [
            "[9, 16, 9, 4]\n"
          ]
        }
      ]
    },
    {
      "cell_type": "code",
      "source": [
        "num.sort()"
      ],
      "metadata": {
        "id": "ktEJF1A2noCw"
      },
      "execution_count": 61,
      "outputs": []
    },
    {
      "cell_type": "code",
      "source": [
        "c=num.pop(0)\n",
        "print(c)\n",
        "print(num)"
      ],
      "metadata": {
        "colab": {
          "base_uri": "https://localhost:8080/"
        },
        "id": "SWmsNnVnolu0",
        "outputId": "fd865423-a4ef-4b23-d21d-54d9d75be2df"
      },
      "execution_count": 62,
      "outputs": [
        {
          "output_type": "stream",
          "name": "stdout",
          "text": [
            "4\n",
            "[9, 16, 52]\n"
          ]
        }
      ]
    },
    {
      "cell_type": "code",
      "source": [
        "print(num)\n",
        "del num[2]\n",
        "print(num)"
      ],
      "metadata": {
        "colab": {
          "base_uri": "https://localhost:8080/"
        },
        "id": "LF6unxVxpboo",
        "outputId": "a9923ca7-e797-4195-a7ec-4c4a4cdb5432"
      },
      "execution_count": 68,
      "outputs": [
        {
          "output_type": "stream",
          "name": "stdout",
          "text": [
            "[9, 16, 4]\n",
            "[9, 16]\n"
          ]
        }
      ]
    },
    {
      "cell_type": "code",
      "source": [
        "cadena = \"Conejo\"\n",
        "t = list(cadena)  #para convertir una cadena a lista de caracteres\n",
        "print(t)"
      ],
      "metadata": {
        "colab": {
          "base_uri": "https://localhost:8080/"
        },
        "id": "aQ4aA1jMp3YK",
        "outputId": "fbb77d83-1402-4817-d5aa-f1d6683ef35f"
      },
      "execution_count": 69,
      "outputs": [
        {
          "output_type": "stream",
          "name": "stdout",
          "text": [
            "['C', 'o', 'n', 'e', 'j', 'o']\n"
          ]
        }
      ]
    },
    {
      "cell_type": "code",
      "source": [
        "cadena = \"Los libros y el cafe son lo mejor\"\n",
        "t = cadena.split()  #segmenta la cadena de texto por los espacios\n",
        "print(t)"
      ],
      "metadata": {
        "colab": {
          "base_uri": "https://localhost:8080/"
        },
        "id": "LOB8h6lcqM9i",
        "outputId": "dd30bce2-cb99-4bff-d1bc-7d042cdea7d9"
      },
      "execution_count": 70,
      "outputs": [
        {
          "output_type": "stream",
          "name": "stdout",
          "text": [
            "['Los', 'libros', 'y', 'el', 'cafe', 'son', 'lo', 'mejor']\n"
          ]
        }
      ]
    },
    {
      "cell_type": "code",
      "source": [
        "trad={\n",
        "    'one':'uno',\n",
        "    'two':'dos',\n",
        "    'blue':'azul'\n",
        "}\n",
        "print(trad)\n"
      ],
      "metadata": {
        "colab": {
          "base_uri": "https://localhost:8080/"
        },
        "id": "qyao5EncqivJ",
        "outputId": "d53c7d18-b991-4287-fa87-6b60609dd46e"
      },
      "execution_count": 72,
      "outputs": [
        {
          "output_type": "stream",
          "name": "stdout",
          "text": [
            "{'one': 'uno', 'two': 'dos', 'blue': 'azul'}\n"
          ]
        }
      ]
    },
    {
      "cell_type": "code",
      "source": [
        "palabra ='hipoteticamente'\n",
        "d=dict()\n",
        "for c in palabra:\n",
        "  if c not in d:\n",
        "    d[c]=1\n",
        "  else:\n",
        "    d[c]=d[c]+1\n",
        "print(d)"
      ],
      "metadata": {
        "colab": {
          "base_uri": "https://localhost:8080/"
        },
        "id": "YL9OlpbvsAAu",
        "outputId": "6d80fd3c-fbcd-4de5-ba0a-c37bc7115056"
      },
      "execution_count": 73,
      "outputs": [
        {
          "output_type": "stream",
          "name": "stdout",
          "text": [
            "{'h': 1, 'i': 2, 'p': 1, 'o': 1, 't': 3, 'e': 3, 'c': 1, 'a': 1, 'm': 1, 'n': 1}\n"
          ]
        }
      ]
    },
    {
      "cell_type": "code",
      "source": [
        "t= ('i','v','o','n','e')\n",
        "print(t)"
      ],
      "metadata": {
        "colab": {
          "base_uri": "https://localhost:8080/"
        },
        "id": "8mnEiVwass8O",
        "outputId": "23726bbc-0ee3-41ac-ecd2-0c3e5d19c868"
      },
      "execution_count": 79,
      "outputs": [
        {
          "output_type": "stream",
          "name": "stdout",
          "text": [
            "('i', 'v', 'o', 'n', 'e')\n"
          ]
        }
      ]
    },
    {
      "cell_type": "code",
      "source": [
        "d= {'b':1,'a':10}\n",
        "t= list(d.items())\n",
        "print(t)"
      ],
      "metadata": {
        "colab": {
          "base_uri": "https://localhost:8080/"
        },
        "id": "Rv9V5dBTtJxy",
        "outputId": "bf90656c-0688-4a2d-f4c3-0ecb2757adfc"
      },
      "execution_count": 80,
      "outputs": [
        {
          "output_type": "stream",
          "name": "stdout",
          "text": [
            "[('b', 1), ('a', 10)]\n"
          ]
        }
      ]
    },
    {
      "cell_type": "markdown",
      "source": [
        "# ***Programación Orientada a Objetos***"
      ],
      "metadata": {
        "id": "dgFMoGhoVmR3"
      }
    },
    {
      "cell_type": "code",
      "source": [
        "class Perro:\n",
        "  def __init__(self, nombre, edad,raza):\n",
        "    self.nombre = nombre\n",
        "    self.edad = edad\n",
        "    self.raza=raza\n",
        "\n",
        "  def ladrar(self):\n",
        "    return f\"{self.nombre}: Guau! Guau!\"\n",
        "\n",
        "  def saludar(self):\n",
        "    return f\"{self.nombre}: Hola tengo {self.edad} años y soy de raza {self.raza}\"\n",
        "\n",
        "#crear instancia de la clase perro\n",
        "perro1= Perro(\"Toby\",3,\"Chihuahua\")\n",
        "perro2= Perro(\"Fifi\",8,\"Dalmata\")\n",
        "perrito =Perro(\"Panquecito\",1,\"Labrador\")\n",
        "\n",
        "#Usar los métodos y atributos de las instancias\n",
        "print(perro1.saludar())\n",
        "print(perro2.ladrar())\n",
        "print(perrito.saludar())\n",
        "print(perrito.ladrar())"
      ],
      "metadata": {
        "colab": {
          "base_uri": "https://localhost:8080/"
        },
        "id": "Jr4dzNQ0V18s",
        "outputId": "805dde5a-619c-45a3-d134-be328e32eeb4"
      },
      "execution_count": 82,
      "outputs": [
        {
          "output_type": "stream",
          "name": "stdout",
          "text": [
            "Toby: Hola tengo 3 años y soy de raza Chihuahua\n",
            "Fifi: Guau! Guau!\n",
            "Panquecito: Hola tengo 1 años y soy de raza Labrador\n",
            "Panquecito: Guau! Guau!\n"
          ]
        }
      ]
    }
  ]
}