{
  "cells": [
    {
      "attachments": {},
      "cell_type": "markdown",
      "metadata": {
        "id": "R14GdExa4Wlz"
      },
      "source": [
        "# Examen diagnóstico de Python 3\n"
      ]
    },
    {
      "attachments": {},
      "cell_type": "markdown",
      "metadata": {},
      "source": [
        "**Instrucciones**\n",
        "\n",
        "1. Lee detenidamente cada ejercicio.\n",
        "2. Escribe tu respuesta en el bloque de código correspondiente.\n",
        "3. Guarda y cambia el nombre del archivo por tu nombre completo.\n",
        "4. Sube el archivo en el grupo de Teams."
      ]
    },
    {
      "attachments": {},
      "cell_type": "markdown",
      "metadata": {
        "id": "CPNEqohx6FuC"
      },
      "source": [
        "1.- Escribe un programa que **solicite** al usuario su **nombre** y **edad**, y luego **imprime** un mensaje que diga:\n",
        "\n",
        "`Hola, [nombre], tienes [edad] años.`\n"
      ]
    },
    {
      "cell_type": "code",
      "execution_count": null,
      "metadata": {
        "id": "IvUqj2jUbxwe"
      },
      "outputs": [],
      "source": [
        "name=input(\"Ingresa tu nombre: \")\n",
        "edad=input(\"ingresa tu edad: \")\n",
        "print (\"Hola \"+name+\", tienes \"+ edad+ \" años\")"
      ]
    },
    {
      "attachments": {},
      "cell_type": "markdown",
      "metadata": {
        "id": "VtBl9PEF6wah"
      },
      "source": [
        "2.- Escribe un programa que **solicite** al usuario un **número** y **determina** si es positivo, negativo o cero."
      ]
    },
    {
      "cell_type": "code",
      "execution_count": null,
      "metadata": {
        "id": "4LcktBL07RKR"
      },
      "outputs": [],
      "source": [
        "comp=0\n",
        "num =int(input(\"Ingresa un numero: \"))\n",
        "if num > comp:\n",
        "    print ('el numero es positivo ')\n",
        "elif(num<comp):\n",
        "    print ('el numero es negativo ')\n",
        "elif(num==comp):\n",
        "    print ('el numero es 0 ')"
      ]
    },
    {
      "attachments": {},
      "cell_type": "markdown",
      "metadata": {
        "id": "8IcTfitT7ZUZ"
      },
      "source": [
        "3.- Escribe un programa que **muestre** en orden **descendente** los **números** del 100 al 1 utilizando un **bucle `for`**"
      ]
    },
    {
      "cell_type": "code",
      "execution_count": null,
      "metadata": {
        "id": "dRT5Gh1y888h"
      },
      "outputs": [],
      "source": [
        "for i in range(100, 0, -1):\n",
        "    print(i)"
      ]
    },
    {
      "attachments": {},
      "cell_type": "markdown",
      "metadata": {
        "id": "Eiy3aUz59ZlB"
      },
      "source": [
        "4.- Escribe una **función** que tome un **número** como **parámetro** y **devuelva** `True` si es primo y `False` si no lo es.\n",
        "\n",
        "*Los números primos son aquellos números enteros mayores que 1 que solo son divisibles por 1 y por sí mismos, es decir, no tienen ningún divisor aparte de esos dos. En otras palabras, son números que no se pueden factorizar en números más pequeños distintos de 1 y ellos mismos.*"
      ]
    },
    {
      "cell_type": "code",
      "execution_count": null,
      "metadata": {
        "id": "V8amZugK9H74"
      },
      "outputs": [],
      "source": [
        "# Escribe aquí tu respuesta"
      ]
    },
    {
      "attachments": {},
      "cell_type": "markdown",
      "metadata": {
        "id": "CSoEWDtf_HD4"
      },
      "source": [
        "5.- Escribe un programa que **busque** la **posición** de un **elemento** dado en una **lista** y **muestre** su **índice**. Si el elemento no está presente, **muestra** un **mensaje** indicando que no se encontró."
      ]
    },
    {
      "cell_type": "code",
      "execution_count": null,
      "metadata": {
        "id": "sgdXYReV_GTz"
      },
      "outputs": [],
      "source": [
        "# Escribe aquí tu respuesta"
      ]
    },
    {
      "attachments": {},
      "cell_type": "markdown",
      "metadata": {
        "id": "J8ObdGFkAwkI"
      },
      "source": [
        "6.- Escribe una **función** que tome una **cadena** como **parámetro** y **devuelva** `True` si es palindromo y `False` si no lo es.\n",
        "\n",
        "*Un palíndromo es una palabra, frase, número o cualquier otra secuencia de caracteres que se lee de la misma manera de izquierda a derecha y de derecha a izquierda. Es decir, es una secuencia que se mantiene igual sin importar si se lee de adelante hacia atrás o viceversa.*"
      ]
    },
    {
      "cell_type": "code",
      "execution_count": null,
      "metadata": {
        "id": "fRtI_YuCA9N0"
      },
      "outputs": [],
      "source": [
        "# Escribe aquí tu respuesta"
      ]
    },
    {
      "attachments": {},
      "cell_type": "markdown",
      "metadata": {
        "id": "fSHSnXsEBdaZ"
      },
      "source": [
        "7.- Escribe un programa que **lea** un **archivo**, **muestre** su **contenido** y **cuente** cuantas **palabras** tiene."
      ]
    },
    {
      "cell_type": "code",
      "execution_count": null,
      "metadata": {
        "id": "tIaTsNPiCK28"
      },
      "outputs": [],
      "source": [
        "# Escribe aquí tu respuesta"
      ]
    },
    {
      "attachments": {},
      "cell_type": "markdown",
      "metadata": {
        "id": "ujx5VYQ-VV9O"
      },
      "source": [
        "8.- Escribe un programa que **solicite** al usuario **ingresar** un **número** entero positivo y luego **muestre** en pantalla los primeros `n` **números** de la secuencia de **Fibonacci**, donde `n` es el número **ingresado** por el usuario.\n",
        "\n",
        "*La secuencia de números de Fibonacci es una sucesión infinita de números en la que cada número es la suma de los dos anteriores.*"
      ]
    },
    {
      "cell_type": "code",
      "execution_count": null,
      "metadata": {
        "id": "o_M8W1PFW-pm"
      },
      "outputs": [],
      "source": [
        "lista = [0, 1, 0, 0, 0, 0, 0, 0, 0, 0]\n",
        "\n",
        "\n",
        "for n in range(2,10):\n",
        "    \n",
        "    lista[n]= lista[n-1] + lista[n-2]\n",
        "    \n",
        "print(lista)\n",
        "print(\"Serie fibonacci:\", lista[n])"
      ]
    },
    {
      "attachments": {},
      "cell_type": "markdown",
      "metadata": {
        "id": "cfrRDkuLY68N"
      },
      "source": [
        "**EXTRA**\n",
        "\n",
        "**Modifica el primer ejercicio y agregar un bloque `try-expect` para verificar si la edad ingresada es correcta. En caso de error, se muestra un mensaje y se pide nuevamente la edad al usuario. El ciclo continúa hasta que se ingrese la edad correctamente.**"
      ]
    },
    {
      "cell_type": "code",
      "execution_count": null,
      "metadata": {
        "id": "uksLVAb8ZBBf"
      },
      "outputs": [],
      "source": [
        "# Escribe aquí tu respuesta"
      ]
    }
  ],
  "metadata": {
    "colab": {
      "provenance": []
    },
    "kernelspec": {
      "display_name": "Python 3",
      "name": "python3"
    },
    "language_info": {
      "name": "python"
    }
  },
  "nbformat": 4,
  "nbformat_minor": 0
}
