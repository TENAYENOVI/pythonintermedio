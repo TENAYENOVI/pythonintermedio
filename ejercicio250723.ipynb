{
  "nbformat": 4,
  "nbformat_minor": 0,
  "metadata": {
    "colab": {
      "provenance": []
    },
    "kernelspec": {
      "name": "python3",
      "display_name": "Python 3"
    },
    "language_info": {
      "name": "python"
    }
  },
  "cells": [
    {
      "cell_type": "code",
      "execution_count": 74,
      "metadata": {
        "id": "spDA86xGwUA6"
      },
      "outputs": [],
      "source": [
        "import requests\n",
        "from bs4 import BeautifulSoup"
      ]
    },
    {
      "cell_type": "code",
      "source": [
        "def obtener_contenido_pagina(url):\n",
        "  response = requests.get(url)\n",
        "  return response.text"
      ],
      "metadata": {
        "id": "rfgtDqc3DUm9"
      },
      "execution_count": 75,
      "outputs": []
    },
    {
      "cell_type": "code",
      "source": [
        "def analizar_contenido_pagina(html):\n",
        "  return BeautifulSoup(html, 'html.parser')"
      ],
      "metadata": {
        "id": "bzjb8LHKDW4p"
      },
      "execution_count": 76,
      "outputs": []
    },
    {
      "cell_type": "code",
      "source": [
        "url = requests.get('https://diario.mx/')\n",
        "\n",
        "soup = BeautifulSoup(url.content, 'html.parser')"
      ],
      "metadata": {
        "id": "gaTmnMKwDatA"
      },
      "execution_count": 77,
      "outputs": []
    },
    {
      "cell_type": "code",
      "source": [
        "titulos = []\n",
        "\n",
        "titulo_items = soup.find_all('h2',class_='titulo_2')"
      ],
      "metadata": {
        "id": "NRz3n81_DgLW"
      },
      "execution_count": 78,
      "outputs": []
    },
    {
      "cell_type": "code",
      "source": [
        "titulo_items"
      ],
      "metadata": {
        "colab": {
          "base_uri": "https://localhost:8080/"
        },
        "id": "28Cx3xZTEDNr",
        "outputId": "fbdae9f2-97fe-4cdb-f7ed-f0ffce3e3c51"
      },
      "execution_count": 79,
      "outputs": [
        {
          "output_type": "execute_result",
          "data": {
            "text/plain": [
              "[<h2 class=\"titulo_2\">Denuncian a obispos por encubrimiento de casos de abuso sexual en México</h2>,\n",
              " <h2 class=\"titulo_2\">Disminuyen cruces ilegales a EU, pero aumentan impugnaciones</h2>,\n",
              " <h2 class=\"titulo_2\">Aventaja Indios en playoffs a Camargo</h2>,\n",
              " <h2 class=\"titulo_2\">Justifica Hacienda refinanciamiento de deuda de Pemex</h2>,\n",
              " <h2 class=\"titulo_2\">Usa Texas muro flotante para fines políticos, dice embajador</h2>,\n",
              " <h2 class=\"titulo_2\">Hombre es ejecutado delante de su familia</h2>,\n",
              " <h2 class=\"titulo_2\">Asesinan a mujer mientras platicaba frente a su casa</h2>,\n",
              " <h2 class=\"titulo_2\">Matar por la nuca a un desarmado</h2>,\n",
              " <h2 class=\"titulo_2\">Denuncia Xóchitl a AMLO ante FGR por violar secreto fiscal</h2>,\n",
              " <h2 class=\"titulo_2\">Confirma TEPJF limitaciones a 'corcholatas' de Morena</h2>,\n",
              " <h2 class=\"titulo_2\">Revierte CFE pérdidas en segundo trimestre</h2>,\n",
              " <h2 class=\"titulo_2\">Temen por su seguridad las conductoras de transporte</h2>,\n",
              " <h2 class=\"titulo_2\">Video: Se vuelca carro en el Centro de El Paso</h2>,\n",
              " <h2 class=\"titulo_2\">Entrega Maru Campos 40 mdp para protección y restauración de áreas forestales</h2>,\n",
              " <h2 class=\"titulo_2\">Choca Chivas contra el líder de MLS en Leagues Cup</h2>,\n",
              " <h2 class=\"titulo_2\">Paga Inegi al crimen para realizar censos</h2>,\n",
              " <h2 class=\"titulo_2\">Bolivia ya utiliza yuanes frente a la escasez del dólar</h2>,\n",
              " <h2 class=\"titulo_2\">Exhortan a no bajar la guardia en combate de piojos</h2>,\n",
              " <h2 class=\"titulo_2\">¿Exceso de dopamina?</h2>,\n",
              " <h2 class=\"titulo_2\">Evita las arrugas a temprana edad</h2>,\n",
              " <h2 class=\"titulo_2\">¡Ponte a pedalear!</h2>,\n",
              " <h2 class=\"titulo_2\">Por tu salud cerebral</h2>,\n",
              " <h2 class=\"titulo_2\">Exhortan a reducir el consumo de carnes rojas</h2>,\n",
              " <h2 class=\"titulo_2\">Inaugurará filme de Hayao Miyazaki el Festival de Toronto</h2>,\n",
              " <h2 class=\"titulo_2\">Honran sobrevivientes de abusos protesta de O'Connor en 1992</h2>,\n",
              " <h2 class=\"titulo_2\">Rompe Rosalía el silencio sobre su ruptura con Rauw</h2>,\n",
              " <h2 class=\"titulo_2\">Poeta chihuahuense presenta su libro</h2>,\n",
              " <h2 class=\"titulo_2\">Llega el final de 'Slam Dunk' a la pantalla grande</h2>,\n",
              " <h2 class=\"titulo_2\">Asegura Sylvia Pasquel que Silvia Pinal tiene buena salud</h2>,\n",
              " <h2 class=\"titulo_2\">Disfrútalas al máximo</h2>]"
            ]
          },
          "metadata": {},
          "execution_count": 79
        }
      ]
    },
    {
      "cell_type": "code",
      "source": [
        "for item in titulo_items:\n",
        "  titulo=item.text.strip()\n",
        "  titulos.append(titulo)"
      ],
      "metadata": {
        "id": "9q_rscLFF5AD"
      },
      "execution_count": 80,
      "outputs": []
    },
    {
      "cell_type": "code",
      "source": [
        "titulos"
      ],
      "metadata": {
        "id": "IvO5Tsn-GE3e"
      },
      "execution_count": null,
      "outputs": []
    },
    {
      "cell_type": "code",
      "source": [
        "lugares = []\n",
        "lugar_items = soup.find_all('small', class_='texto_3')"
      ],
      "metadata": {
        "id": "tsq-RyBapcFO"
      },
      "execution_count": 82,
      "outputs": []
    },
    {
      "cell_type": "code",
      "source": [
        "lugar_items"
      ],
      "metadata": {
        "id": "OnJ4_GaHqTk4"
      },
      "execution_count": null,
      "outputs": []
    },
    {
      "cell_type": "code",
      "source": [
        "for item in lugar_items:\n",
        "  lugar=item.text.strip()\n",
        "  lugares.append(lugar)"
      ],
      "metadata": {
        "id": "VxwYrHkIqYSj"
      },
      "execution_count": 85,
      "outputs": []
    },
    {
      "cell_type": "code",
      "source": [
        "lugares"
      ],
      "metadata": {
        "id": "Gjmnwhj8qjhm"
      },
      "execution_count": null,
      "outputs": []
    },
    {
      "cell_type": "code",
      "source": [
        "notas = []\n",
        "resumen_notas = soup.find_all('p', class_='texto_2')"
      ],
      "metadata": {
        "id": "BiP9x1Ors2vB"
      },
      "execution_count": 87,
      "outputs": []
    },
    {
      "cell_type": "code",
      "source": [
        "resumen_notas"
      ],
      "metadata": {
        "id": "z59uKzsutErK"
      },
      "execution_count": null,
      "outputs": []
    },
    {
      "cell_type": "code",
      "source": [
        "for item in resumen_notas:\n",
        "  nota=item.text.strip()\n",
        "  notas.append(nota)"
      ],
      "metadata": {
        "id": "vj6Bu2sctIA3"
      },
      "execution_count": 89,
      "outputs": []
    },
    {
      "cell_type": "code",
      "source": [
        "notas"
      ],
      "metadata": {
        "id": "ogVxwWSLtZ6r"
      },
      "execution_count": null,
      "outputs": []
    },
    {
      "cell_type": "code",
      "source": [
        "data = []\n",
        "min_length = min(len(titulos), len(lugares), len(notas))\n",
        "\n",
        "for i in range(min_length):\n",
        "    data.append({\n",
        "        \"Título: \": titulos[i] if i < len(titulos) else None,\n",
        "        \"Lugares: \": lugares[i] if i < len(lugares) else None,\n",
        "        \"Noticia: \": notas[i] if i < len(notas) else None\n",
        "    })"
      ],
      "metadata": {
        "id": "pDMuBcb25peN"
      },
      "execution_count": 91,
      "outputs": []
    },
    {
      "cell_type": "code",
      "source": [
        "data"
      ],
      "metadata": {
        "id": "BmPyLj-mAElZ"
      },
      "execution_count": null,
      "outputs": []
    },
    {
      "cell_type": "code",
      "source": [
        "def procesar_pagina(soup):\n",
        "  datos=[]"
      ],
      "metadata": {
        "id": "YIVraB45BDtY"
      },
      "execution_count": 94,
      "outputs": []
    },
    {
      "cell_type": "code",
      "source": [
        "def manejar_paginacion(url_base, num_paginas):\n",
        "    for i in range(1, num_paginas + 1):\n",
        "        url = url_base + '/page-' + str(i) + \".html\"  # Actualiza la URL base con el número de página actual\n",
        "        contenido_pagina = obtener_contenido_pagina(url)\n",
        "        soup = analizar_contenido_pagina(contenido_pagina)\n",
        "        #procesar_pagina(soup)"
      ],
      "metadata": {
        "id": "fZeBnUjt5ugC"
      },
      "execution_count": 110,
      "outputs": []
    },
    {
      "cell_type": "code",
      "source": [
        "url_base = \"https://diario.mx/\"\n",
        "num_paginas = 10\n",
        "manejar_paginacion(url_base, num_paginas)"
      ],
      "metadata": {
        "id": "xkDr_zbR5xxS"
      },
      "execution_count": 111,
      "outputs": []
    },
    {
      "cell_type": "code",
      "source": [
        "data"
      ],
      "metadata": {
        "colab": {
          "base_uri": "https://localhost:8080/"
        },
        "id": "w2EM1so4Dk4h",
        "outputId": "e0318f10-94df-4046-bb8a-a847abd49f35"
      },
      "execution_count": 112,
      "outputs": [
        {
          "output_type": "execute_result",
          "data": {
            "text/plain": [
              "[{'Título: ': 'Denuncian a obispos por encubrimiento de casos de abuso sexual en México',\n",
              "  'Lugares: ': 'Nacional',\n",
              "  'Noticia: ': 'Los cuestionamientos que ha enfrentado por años la jerarquía católica por casos de pederastia clerical salieron a relucir nuevamente hoy'},\n",
              " {'Título: ': 'Disminuyen cruces ilegales a EU, pero aumentan impugnaciones',\n",
              "  'Lugares: ': 'Estados Unidos',\n",
              "  'Noticia: ': 'Durante junio se procesó a más de 38 mil personas para su ingreso mediante el uso de CBP One, y más de 170 mil obtuvieron citas en el primer semestre del año'},\n",
              " {'Título: ': 'Aventaja Indios en playoffs a Camargo',\n",
              "  'Lugares: ': 'Deportes',\n",
              "  'Noticia: ': \"Con par de cuadrangulares de Julio Pacheco y Carlos 'El Hulk' Díaz, la novena fronteriza venció en el tercer juego de la serie contra los Mazorqueros\"},\n",
              " {'Título: ': 'Justifica Hacienda refinanciamiento de deuda de Pemex',\n",
              "  'Lugares: ': 'Nacional',\n",
              "  'Noticia: ': 'Con la apertura oficial del centro comercial Alameda Iglesias® y el inicio de la preventa de departamentos de loque será Fonttera Towers, LOMA Desarrollos® inauguró elpasado 29 de junio el primer ‘Town Center’ de Ciudad Juárez.'},\n",
              " {'Título: ': 'Usa Texas muro flotante para fines políticos, dice embajador',\n",
              "  'Lugares: ': 'Juárez',\n",
              "  'Noticia: ': 'Es uno de los proyectos del Programa de Mejoramiento de Vialidades'},\n",
              " {'Título: ': 'Hombre es ejecutado delante de su familia',\n",
              "  'Lugares: ': 'Estado',\n",
              "  'Noticia: ': 'Tomando en cuenta todo el impulso, economistas, quienes han pronosticado una leve recesión a finales de este año, ya no esperan una'},\n",
              " {'Título: ': 'Asesinan a mujer mientras platicaba frente a su casa',\n",
              "  'Lugares: ': 'Juárez',\n",
              "  'Noticia: ': 'La Fiscalía de Distrito Zona Sur realiza el operativo especial para localizar a las personas que hace un año fueron privadas de su libertad'},\n",
              " {'Título: ': 'Matar por la nuca a un desarmado',\n",
              "  'Lugares: ': 'Estado',\n",
              "  'Noticia: ': \"Se ha comprometido a perdonar 'una gran parte' de los acusados del ataque del 6 de enero si gana un segundo término\"},\n",
              " {'Título: ': 'Denuncia Xóchitl a AMLO ante FGR por violar secreto fiscal',\n",
              "  'Lugares: ': 'Nacional',\n",
              "  'Noticia: ': 'Zona del hallazgo es punto frecuente de cruce de migrantes'},\n",
              " {'Título: ': \"Confirma TEPJF limitaciones a 'corcholatas' de Morena\",\n",
              "  'Lugares: ': 'Economía',\n",
              "  'Noticia: ': 'En el reporte anterior, realizado el 28 de junio al de hoy 27 de julio, en Juárez sólo se han presentado 26 casos confirmados con este padecimiento'},\n",
              " {'Título: ': 'Revierte CFE pérdidas en segundo trimestre',\n",
              "  'Lugares: ': 'Juárez',\n",
              "  'Noticia: ': 'Su valor se recuperó de la pérdida que tuvieron en 2020 a raíz de la pandemia'},\n",
              " {'Título: ': 'Temen por su seguridad las conductoras de transporte',\n",
              "  'Lugares: ': 'Estados Unidos',\n",
              "  'Noticia: ': 'La gobernadora Maru Campos hizo entrega del beneficio, con una inversión de 2 millones de pesos'},\n",
              " {'Título: ': 'Video: Se vuelca carro en el Centro de El Paso',\n",
              "  'Lugares: ': 'Estado',\n",
              "  'Noticia: ': 'Un quinto autobús llegó a la ciudad el pasado fin de semana, elevando a 199 el número de migrantes que han sido transportados desde junio'},\n",
              " {'Título: ': 'Entrega Maru Campos 40 mdp para protección y restauración de áreas forestales',\n",
              "  'Lugares: ': 'Estados Unidos',\n",
              "  'Noticia: ': 'El percance vial ocurrió en el paseo Triunfo de la República'}]"
            ]
          },
          "metadata": {},
          "execution_count": 112
        }
      ]
    },
    {
      "cell_type": "code",
      "source": [
        "len(data)"
      ],
      "metadata": {
        "colab": {
          "base_uri": "https://localhost:8080/"
        },
        "id": "5tOF-IwwEOGi",
        "outputId": "413c95a5-82fc-4030-b8ad-d076a0addb6e"
      },
      "execution_count": 113,
      "outputs": [
        {
          "output_type": "execute_result",
          "data": {
            "text/plain": [
              "14"
            ]
          },
          "metadata": {},
          "execution_count": 113
        }
      ]
    },
    {
      "cell_type": "code",
      "source": [
        "import pandas as pd\n",
        "df = pd.DataFrame(data)"
      ],
      "metadata": {
        "id": "F4dvoqJMEsKp"
      },
      "execution_count": 114,
      "outputs": []
    },
    {
      "cell_type": "code",
      "source": [
        "df"
      ],
      "metadata": {
        "colab": {
          "base_uri": "https://localhost:8080/",
          "height": 775
        },
        "id": "31dXGDiNEtj0",
        "outputId": "f24136d7-d7a3-480e-efe4-32f86d6c4bdd"
      },
      "execution_count": 115,
      "outputs": [
        {
          "output_type": "execute_result",
          "data": {
            "text/plain": [
              "                                             Título:        Lugares:   \\\n",
              "0   Denuncian a obispos por encubrimiento de casos...        Nacional   \n",
              "1   Disminuyen cruces ilegales a EU, pero aumentan...  Estados Unidos   \n",
              "2               Aventaja Indios en playoffs a Camargo        Deportes   \n",
              "3   Justifica Hacienda refinanciamiento de deuda d...        Nacional   \n",
              "4   Usa Texas muro flotante para fines políticos, ...          Juárez   \n",
              "5           Hombre es ejecutado delante de su familia          Estado   \n",
              "6   Asesinan a mujer mientras platicaba frente a s...          Juárez   \n",
              "7                    Matar por la nuca a un desarmado          Estado   \n",
              "8   Denuncia Xóchitl a AMLO ante FGR por violar se...        Nacional   \n",
              "9   Confirma TEPJF limitaciones a 'corcholatas' de...        Economía   \n",
              "10         Revierte CFE pérdidas en segundo trimestre          Juárez   \n",
              "11  Temen por su seguridad las conductoras de tran...  Estados Unidos   \n",
              "12     Video: Se vuelca carro en el Centro de El Paso          Estado   \n",
              "13  Entrega Maru Campos 40 mdp para protección y r...  Estados Unidos   \n",
              "\n",
              "                                            Noticia:   \n",
              "0   Los cuestionamientos que ha enfrentado por año...  \n",
              "1   Durante junio se procesó a más de 38 mil perso...  \n",
              "2   Con par de cuadrangulares de Julio Pacheco y C...  \n",
              "3   Con la apertura oficial del centro comercial A...  \n",
              "4   Es uno de los proyectos del Programa de Mejora...  \n",
              "5   Tomando en cuenta todo el impulso, economistas...  \n",
              "6   La Fiscalía de Distrito Zona Sur realiza el op...  \n",
              "7   Se ha comprometido a perdonar 'una gran parte'...  \n",
              "8   Zona del hallazgo es punto frecuente de cruce ...  \n",
              "9   En el reporte anterior, realizado el 28 de jun...  \n",
              "10  Su valor se recuperó de la pérdida que tuviero...  \n",
              "11  La gobernadora Maru Campos hizo entrega del be...  \n",
              "12  Un quinto autobús llegó a la ciudad el pasado ...  \n",
              "13  El percance vial ocurrió en el paseo Triunfo d...  "
            ],
            "text/html": [
              "\n",
              "\n",
              "  <div id=\"df-7e52030e-1832-4233-b3b1-1ebaa9c2ceaa\">\n",
              "    <div class=\"colab-df-container\">\n",
              "      <div>\n",
              "<style scoped>\n",
              "    .dataframe tbody tr th:only-of-type {\n",
              "        vertical-align: middle;\n",
              "    }\n",
              "\n",
              "    .dataframe tbody tr th {\n",
              "        vertical-align: top;\n",
              "    }\n",
              "\n",
              "    .dataframe thead th {\n",
              "        text-align: right;\n",
              "    }\n",
              "</style>\n",
              "<table border=\"1\" class=\"dataframe\">\n",
              "  <thead>\n",
              "    <tr style=\"text-align: right;\">\n",
              "      <th></th>\n",
              "      <th>Título:</th>\n",
              "      <th>Lugares:</th>\n",
              "      <th>Noticia:</th>\n",
              "    </tr>\n",
              "  </thead>\n",
              "  <tbody>\n",
              "    <tr>\n",
              "      <th>0</th>\n",
              "      <td>Denuncian a obispos por encubrimiento de casos...</td>\n",
              "      <td>Nacional</td>\n",
              "      <td>Los cuestionamientos que ha enfrentado por año...</td>\n",
              "    </tr>\n",
              "    <tr>\n",
              "      <th>1</th>\n",
              "      <td>Disminuyen cruces ilegales a EU, pero aumentan...</td>\n",
              "      <td>Estados Unidos</td>\n",
              "      <td>Durante junio se procesó a más de 38 mil perso...</td>\n",
              "    </tr>\n",
              "    <tr>\n",
              "      <th>2</th>\n",
              "      <td>Aventaja Indios en playoffs a Camargo</td>\n",
              "      <td>Deportes</td>\n",
              "      <td>Con par de cuadrangulares de Julio Pacheco y C...</td>\n",
              "    </tr>\n",
              "    <tr>\n",
              "      <th>3</th>\n",
              "      <td>Justifica Hacienda refinanciamiento de deuda d...</td>\n",
              "      <td>Nacional</td>\n",
              "      <td>Con la apertura oficial del centro comercial A...</td>\n",
              "    </tr>\n",
              "    <tr>\n",
              "      <th>4</th>\n",
              "      <td>Usa Texas muro flotante para fines políticos, ...</td>\n",
              "      <td>Juárez</td>\n",
              "      <td>Es uno de los proyectos del Programa de Mejora...</td>\n",
              "    </tr>\n",
              "    <tr>\n",
              "      <th>5</th>\n",
              "      <td>Hombre es ejecutado delante de su familia</td>\n",
              "      <td>Estado</td>\n",
              "      <td>Tomando en cuenta todo el impulso, economistas...</td>\n",
              "    </tr>\n",
              "    <tr>\n",
              "      <th>6</th>\n",
              "      <td>Asesinan a mujer mientras platicaba frente a s...</td>\n",
              "      <td>Juárez</td>\n",
              "      <td>La Fiscalía de Distrito Zona Sur realiza el op...</td>\n",
              "    </tr>\n",
              "    <tr>\n",
              "      <th>7</th>\n",
              "      <td>Matar por la nuca a un desarmado</td>\n",
              "      <td>Estado</td>\n",
              "      <td>Se ha comprometido a perdonar 'una gran parte'...</td>\n",
              "    </tr>\n",
              "    <tr>\n",
              "      <th>8</th>\n",
              "      <td>Denuncia Xóchitl a AMLO ante FGR por violar se...</td>\n",
              "      <td>Nacional</td>\n",
              "      <td>Zona del hallazgo es punto frecuente de cruce ...</td>\n",
              "    </tr>\n",
              "    <tr>\n",
              "      <th>9</th>\n",
              "      <td>Confirma TEPJF limitaciones a 'corcholatas' de...</td>\n",
              "      <td>Economía</td>\n",
              "      <td>En el reporte anterior, realizado el 28 de jun...</td>\n",
              "    </tr>\n",
              "    <tr>\n",
              "      <th>10</th>\n",
              "      <td>Revierte CFE pérdidas en segundo trimestre</td>\n",
              "      <td>Juárez</td>\n",
              "      <td>Su valor se recuperó de la pérdida que tuviero...</td>\n",
              "    </tr>\n",
              "    <tr>\n",
              "      <th>11</th>\n",
              "      <td>Temen por su seguridad las conductoras de tran...</td>\n",
              "      <td>Estados Unidos</td>\n",
              "      <td>La gobernadora Maru Campos hizo entrega del be...</td>\n",
              "    </tr>\n",
              "    <tr>\n",
              "      <th>12</th>\n",
              "      <td>Video: Se vuelca carro en el Centro de El Paso</td>\n",
              "      <td>Estado</td>\n",
              "      <td>Un quinto autobús llegó a la ciudad el pasado ...</td>\n",
              "    </tr>\n",
              "    <tr>\n",
              "      <th>13</th>\n",
              "      <td>Entrega Maru Campos 40 mdp para protección y r...</td>\n",
              "      <td>Estados Unidos</td>\n",
              "      <td>El percance vial ocurrió en el paseo Triunfo d...</td>\n",
              "    </tr>\n",
              "  </tbody>\n",
              "</table>\n",
              "</div>\n",
              "      <button class=\"colab-df-convert\" onclick=\"convertToInteractive('df-7e52030e-1832-4233-b3b1-1ebaa9c2ceaa')\"\n",
              "              title=\"Convert this dataframe to an interactive table.\"\n",
              "              style=\"display:none;\">\n",
              "\n",
              "  <svg xmlns=\"http://www.w3.org/2000/svg\" height=\"24px\"viewBox=\"0 0 24 24\"\n",
              "       width=\"24px\">\n",
              "    <path d=\"M0 0h24v24H0V0z\" fill=\"none\"/>\n",
              "    <path d=\"M18.56 5.44l.94 2.06.94-2.06 2.06-.94-2.06-.94-.94-2.06-.94 2.06-2.06.94zm-11 1L8.5 8.5l.94-2.06 2.06-.94-2.06-.94L8.5 2.5l-.94 2.06-2.06.94zm10 10l.94 2.06.94-2.06 2.06-.94-2.06-.94-.94-2.06-.94 2.06-2.06.94z\"/><path d=\"M17.41 7.96l-1.37-1.37c-.4-.4-.92-.59-1.43-.59-.52 0-1.04.2-1.43.59L10.3 9.45l-7.72 7.72c-.78.78-.78 2.05 0 2.83L4 21.41c.39.39.9.59 1.41.59.51 0 1.02-.2 1.41-.59l7.78-7.78 2.81-2.81c.8-.78.8-2.07 0-2.86zM5.41 20L4 18.59l7.72-7.72 1.47 1.35L5.41 20z\"/>\n",
              "  </svg>\n",
              "      </button>\n",
              "\n",
              "\n",
              "\n",
              "    <div id=\"df-db5593c7-03b1-4491-8397-cfd7ee3a0ef3\">\n",
              "      <button class=\"colab-df-quickchart\" onclick=\"quickchart('df-db5593c7-03b1-4491-8397-cfd7ee3a0ef3')\"\n",
              "              title=\"Suggest charts.\"\n",
              "              style=\"display:none;\">\n",
              "\n",
              "<svg xmlns=\"http://www.w3.org/2000/svg\" height=\"24px\"viewBox=\"0 0 24 24\"\n",
              "     width=\"24px\">\n",
              "    <g>\n",
              "        <path d=\"M19 3H5c-1.1 0-2 .9-2 2v14c0 1.1.9 2 2 2h14c1.1 0 2-.9 2-2V5c0-1.1-.9-2-2-2zM9 17H7v-7h2v7zm4 0h-2V7h2v10zm4 0h-2v-4h2v4z\"/>\n",
              "    </g>\n",
              "</svg>\n",
              "      </button>\n",
              "    </div>\n",
              "\n",
              "<style>\n",
              "  .colab-df-quickchart {\n",
              "    background-color: #E8F0FE;\n",
              "    border: none;\n",
              "    border-radius: 50%;\n",
              "    cursor: pointer;\n",
              "    display: none;\n",
              "    fill: #1967D2;\n",
              "    height: 32px;\n",
              "    padding: 0 0 0 0;\n",
              "    width: 32px;\n",
              "  }\n",
              "\n",
              "  .colab-df-quickchart:hover {\n",
              "    background-color: #E2EBFA;\n",
              "    box-shadow: 0px 1px 2px rgba(60, 64, 67, 0.3), 0px 1px 3px 1px rgba(60, 64, 67, 0.15);\n",
              "    fill: #174EA6;\n",
              "  }\n",
              "\n",
              "  [theme=dark] .colab-df-quickchart {\n",
              "    background-color: #3B4455;\n",
              "    fill: #D2E3FC;\n",
              "  }\n",
              "\n",
              "  [theme=dark] .colab-df-quickchart:hover {\n",
              "    background-color: #434B5C;\n",
              "    box-shadow: 0px 1px 3px 1px rgba(0, 0, 0, 0.15);\n",
              "    filter: drop-shadow(0px 1px 2px rgba(0, 0, 0, 0.3));\n",
              "    fill: #FFFFFF;\n",
              "  }\n",
              "</style>\n",
              "\n",
              "    <script>\n",
              "      async function quickchart(key) {\n",
              "        const containerElement = document.querySelector('#' + key);\n",
              "        const charts = await google.colab.kernel.invokeFunction(\n",
              "            'suggestCharts', [key], {});\n",
              "      }\n",
              "    </script>\n",
              "\n",
              "      <script>\n",
              "\n",
              "function displayQuickchartButton(domScope) {\n",
              "  let quickchartButtonEl =\n",
              "    domScope.querySelector('#df-db5593c7-03b1-4491-8397-cfd7ee3a0ef3 button.colab-df-quickchart');\n",
              "  quickchartButtonEl.style.display =\n",
              "    google.colab.kernel.accessAllowed ? 'block' : 'none';\n",
              "}\n",
              "\n",
              "        displayQuickchartButton(document);\n",
              "      </script>\n",
              "      <style>\n",
              "    .colab-df-container {\n",
              "      display:flex;\n",
              "      flex-wrap:wrap;\n",
              "      gap: 12px;\n",
              "    }\n",
              "\n",
              "    .colab-df-convert {\n",
              "      background-color: #E8F0FE;\n",
              "      border: none;\n",
              "      border-radius: 50%;\n",
              "      cursor: pointer;\n",
              "      display: none;\n",
              "      fill: #1967D2;\n",
              "      height: 32px;\n",
              "      padding: 0 0 0 0;\n",
              "      width: 32px;\n",
              "    }\n",
              "\n",
              "    .colab-df-convert:hover {\n",
              "      background-color: #E2EBFA;\n",
              "      box-shadow: 0px 1px 2px rgba(60, 64, 67, 0.3), 0px 1px 3px 1px rgba(60, 64, 67, 0.15);\n",
              "      fill: #174EA6;\n",
              "    }\n",
              "\n",
              "    [theme=dark] .colab-df-convert {\n",
              "      background-color: #3B4455;\n",
              "      fill: #D2E3FC;\n",
              "    }\n",
              "\n",
              "    [theme=dark] .colab-df-convert:hover {\n",
              "      background-color: #434B5C;\n",
              "      box-shadow: 0px 1px 3px 1px rgba(0, 0, 0, 0.15);\n",
              "      filter: drop-shadow(0px 1px 2px rgba(0, 0, 0, 0.3));\n",
              "      fill: #FFFFFF;\n",
              "    }\n",
              "  </style>\n",
              "\n",
              "      <script>\n",
              "        const buttonEl =\n",
              "          document.querySelector('#df-7e52030e-1832-4233-b3b1-1ebaa9c2ceaa button.colab-df-convert');\n",
              "        buttonEl.style.display =\n",
              "          google.colab.kernel.accessAllowed ? 'block' : 'none';\n",
              "\n",
              "        async function convertToInteractive(key) {\n",
              "          const element = document.querySelector('#df-7e52030e-1832-4233-b3b1-1ebaa9c2ceaa');\n",
              "          const dataTable =\n",
              "            await google.colab.kernel.invokeFunction('convertToInteractive',\n",
              "                                                     [key], {});\n",
              "          if (!dataTable) return;\n",
              "\n",
              "          const docLinkHtml = 'Like what you see? Visit the ' +\n",
              "            '<a target=\"_blank\" href=https://colab.research.google.com/notebooks/data_table.ipynb>data table notebook</a>'\n",
              "            + ' to learn more about interactive tables.';\n",
              "          element.innerHTML = '';\n",
              "          dataTable['output_type'] = 'display_data';\n",
              "          await google.colab.output.renderOutput(dataTable, element);\n",
              "          const docLink = document.createElement('div');\n",
              "          docLink.innerHTML = docLinkHtml;\n",
              "          element.appendChild(docLink);\n",
              "        }\n",
              "      </script>\n",
              "    </div>\n",
              "  </div>\n"
            ]
          },
          "metadata": {},
          "execution_count": 115
        }
      ]
    },
    {
      "cell_type": "code",
      "source": [
        "import datetime\n",
        "fecha_actual = datetime.datetime.now().strftime(\"%d-%m-%y\")\n",
        "\n",
        "print(fecha_actual)\n",
        "df.to_csv(f\"../registro.json\")"
      ],
      "metadata": {
        "colab": {
          "base_uri": "https://localhost:8080/"
        },
        "id": "iIMYyR3sFBHs",
        "outputId": "da4ca00a-8ef1-4e1c-83d4-627fba004c2f"
      },
      "execution_count": 118,
      "outputs": [
        {
          "output_type": "stream",
          "name": "stdout",
          "text": [
            "28-07-23\n"
          ]
        }
      ]
    },
    {
      "cell_type": "code",
      "source": [
        "import datetime\n",
        "fecha_actual = datetime.datetime.now().strftime(\"%d-%m-%y\")\n",
        "\n",
        "df.to_csv(f\"../Diario de Juarez-{fecha_actual}.csv\", index=True)"
      ],
      "metadata": {
        "id": "0ej-SknkFGNG"
      },
      "execution_count": 117,
      "outputs": []
    }
  ]
}